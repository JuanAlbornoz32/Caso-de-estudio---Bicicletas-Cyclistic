{
 "cells": [
  {
   "cell_type": "markdown",
   "id": "fd7e990c",
   "metadata": {
    "papermill": {
     "duration": 0.011364,
     "end_time": "2025-02-19T11:11:18.323568",
     "exception": false,
     "start_time": "2025-02-19T11:11:18.312204",
     "status": "completed"
    },
    "tags": []
   },
   "source": [
    "### **Introducción**\n",
    "\n",
    "El siguiente estudio de caso forma parte del proceso de finalización del Certificado de Análisis de Datos de Google, en el cual se busca aplicar y desarrollar las habilidades adquiridas en el programa a un problema práctico. Para ello, se me pide asumir el papel de un analista de datos junior, que trabaja en el equipo de análisis computacional de datos de marketing para una empresa ficticia de bicicletas llamada Cyclistic, y aplicar los seis pasos del proceso de análisis de datos enseñados en el programa: preguntar, preparar, procesar, analizar, compartir y actuar, a una tarea empresarial."
   ]
  },
  {
   "cell_type": "markdown",
   "id": "c1a0fe83",
   "metadata": {
    "papermill": {
     "duration": 0.010161,
     "end_time": "2025-02-19T11:11:18.344381",
     "exception": false,
     "start_time": "2025-02-19T11:11:18.334220",
     "status": "completed"
    },
    "tags": []
   },
   "source": [
    "### **1. Fase de preguntar**\n",
    "\n",
    "**Escenario** \n",
    "\n",
    "La empresa Cyclistic cuenta con una flota de 5,824 bicicletas georreferenciadas y bloqueadas en una red de 692 estaciones en toda Chicago, Estados Unidos, las cuales pueden ser desbloqueadas de una estación y entregadas en cualquier otra estación de la red. \n",
    "\n",
    "Cyclistic cuenta para sus clientes pases de un solo viaje, pases de un día completo y membresías anuales. A los clientes que compran pases de un solo viaje o pases de un día completo se los llama ciclistas ocasionales. Los clientes que compran membresías anuales se llaman miembros de Cyclistic.\n",
    "\n",
    "**Descripción de la tarea empresarial**\n",
    "\n",
    "Se ha detectado que los miembros anuales son mucho más rentables para la empresa que los clientes ocasionales, por lo que se busca maximizar el número de miembros anuales. Para esto se estableció la meta de diseñar estrategias de marketing orientadas a convertir a los ciclistas ocasionales en miembros anuales, ya que se cree que hay más posibilidades de maximizar el número de miembros anuales, atrayendo a ciclistas ocasionales que ya conocen el programa de Cyclistic y han elegido a Cyclistic para sus necesidades de movilidad, que atrayendo nuevos clientes.\n",
    "\n",
    "Para este objetivo, la directora de marketing Lily Moreno, solicita desarrollar un análisis de los clientes de Cyclistic, tanto ocasionales como miembros anuales, que muestre las diferencias entre estos dos tipos de clientes, para así luego desarrollar estrategias de marketing efectivas para que los clientes ocasionales se conviertan en miembros."
   ]
  },
  {
   "cell_type": "markdown",
   "id": "d98ca5a9",
   "metadata": {
    "papermill": {
     "duration": 0.010069,
     "end_time": "2025-02-19T11:11:18.364669",
     "exception": false,
     "start_time": "2025-02-19T11:11:18.354600",
     "status": "completed"
    },
    "tags": []
   },
   "source": [
    "### **2. Preparación de los datos**\n",
    "\n",
    "Para la realización del análisis, y dado que la empresa Ciclystic es ficticia, se ocuparan los datos de viajes en bicicleta, del servicio de bicicletas compartidas Divvy de la ciudad de Chicago, operado por la empresa Bikeshare. Y se tomaran en cuenta para nuestro caso los datos de los últimos doce meses disponibles a la fecha.\n",
    "\n",
    "**Autorización, privacidad, accesibilidad y seguridad de los datos**\n",
    "\n",
    "El conjunto de datos es público, y esta proporcionado por Motivate International Inc, al cual se puede acceder a través del siguiente enlace: https://divvy-tripdata.s3.amazonaws.com/index.html, y el cual contiene datos (almacenados en archivos cvs), desde el año 2013 hasta la actualidad. \n",
    "\n",
    "Los datos a utilizar están autorizados bajo la siguiente licencia https://divvybikes.com/data-license-agreement, la cual otorga una licencia no exclusiva, libre de regalías, limitada y perpetua para acceder, reproducir, analizar, copiar, modificar, distribuir y utilizar los datos para cualquier propósito legal. \n",
    "\n",
    "Es necesario también considerar que por cuestiones de privacidad de los datos, se prohíbe usar información de identificación personal de los ciclistas. Esto lleva a que las observaciones de los datos a utilizar no presentan ningún tipo de información sobre quién realizo el viaje, lo que conlleva a que el análisis no podra ahondar en factores como el sexo o la edad, impidiendo segmentar los resultados por estas variables.\n",
    "\n",
    "**Carga de datos y verificación de su estructura**\n",
    "\n",
    "Como ya se dijo, los datos a utilizar serán los de los últimos doce meses disponibles, que para nuestros caso contaran desde diciembre de 2023, hasta noviembre de 2024. Estos datos vienen en archivos cvs mensuales, por lo cual seran cargados como data frame, para posteriormente unirlos en un solo data. Antes de unirlos, se les ha verificado que tengan el mismo número de columnas, que los nombres de estas sean iguales, y esten ordenadas de la misma forma en todos los data frame. Además de que contengan el mismo tipo de dato en sus columnas. "
   ]
  },
  {
   "cell_type": "code",
   "execution_count": 1,
   "id": "6d8a18b6",
   "metadata": {
    "execution": {
     "iopub.execute_input": "2025-02-19T11:11:18.389946Z",
     "iopub.status.busy": "2025-02-19T11:11:18.387775Z",
     "iopub.status.idle": "2025-02-19T11:11:56.486338Z",
     "shell.execute_reply": "2025-02-19T11:11:56.484418Z"
    },
    "papermill": {
     "duration": 38.11557,
     "end_time": "2025-02-19T11:11:56.490205",
     "exception": false,
     "start_time": "2025-02-19T11:11:18.374635",
     "status": "completed"
    },
    "tags": []
   },
   "outputs": [
    {
     "name": "stderr",
     "output_type": "stream",
     "text": [
      "── \u001b[1mAttaching core tidyverse packages\u001b[22m ──────────────────────── tidyverse 2.0.0 ──\n",
      "\u001b[32m✔\u001b[39m \u001b[34mdplyr    \u001b[39m 1.1.4     \u001b[32m✔\u001b[39m \u001b[34mreadr    \u001b[39m 2.1.5\n",
      "\u001b[32m✔\u001b[39m \u001b[34mforcats  \u001b[39m 1.0.0     \u001b[32m✔\u001b[39m \u001b[34mstringr  \u001b[39m 1.5.1\n",
      "\u001b[32m✔\u001b[39m \u001b[34mggplot2  \u001b[39m 3.5.1     \u001b[32m✔\u001b[39m \u001b[34mtibble   \u001b[39m 3.2.1\n",
      "\u001b[32m✔\u001b[39m \u001b[34mlubridate\u001b[39m 1.9.3     \u001b[32m✔\u001b[39m \u001b[34mtidyr    \u001b[39m 1.3.1\n",
      "\u001b[32m✔\u001b[39m \u001b[34mpurrr    \u001b[39m 1.0.2     \n"
     ]
    },
    {
     "name": "stderr",
     "output_type": "stream",
     "text": [
      "── \u001b[1mConflicts\u001b[22m ────────────────────────────────────────── tidyverse_conflicts() ──\n",
      "\u001b[31m✖\u001b[39m \u001b[34mdplyr\u001b[39m::\u001b[32mfilter()\u001b[39m masks \u001b[34mstats\u001b[39m::filter()\n",
      "\u001b[31m✖\u001b[39m \u001b[34mdplyr\u001b[39m::\u001b[32mlag()\u001b[39m    masks \u001b[34mstats\u001b[39m::lag()\n",
      "\u001b[36mℹ\u001b[39m Use the conflicted package (\u001b[3m\u001b[34m<http://conflicted.r-lib.org/>\u001b[39m\u001b[23m) to force all conflicts to become errors\n"
     ]
    }
   ],
   "source": [
    "# Cargando paquete de trabajo\n",
    "library(tidyverse)\n",
    "\n",
    "# Cargando datos\n",
    "df_2023_12 <- read_csv(\"../input/tripdata/202312-divvy-tripdata.csv\", \n",
    "                       show_col_types = FALSE)\n",
    "df_2024_01 <- read_csv(\"../input/tripdata/202401-divvy-tripdata.csv\", \n",
    "                       show_col_types = FALSE)\n",
    "df_2024_02 <- read_csv(\"../input/tripdata/202402-divvy-tripdata.csv\", \n",
    "                       show_col_types = FALSE)\n",
    "df_2024_03 <- read_csv(\"../input/tripdata/202403-divvy-tripdata.csv\", \n",
    "                       show_col_types = FALSE)\n",
    "df_2024_04 <- read_csv(\"../input/tripdata/202404-divvy-tripdata.csv\", \n",
    "                       show_col_types = FALSE)\n",
    "df_2024_05 <- read_csv(\"../input/tripdata/202405-divvy-tripdata.csv\", \n",
    "                       show_col_types = FALSE)\n",
    "df_2024_06 <- read_csv(\"../input/tripdata/202406-divvy-tripdata.csv\", \n",
    "                       show_col_types = FALSE)\n",
    "df_2024_07 <- read_csv(\"../input/tripdata/202407-divvy-tripdata.csv\", \n",
    "                       show_col_types = FALSE)\n",
    "df_2024_08 <- read_csv(\"../input/tripdata/202408-divvy-tripdata.csv\", \n",
    "                       show_col_types = FALSE)\n",
    "df_2024_09 <- read_csv(\"../input/tripdata/202409-divvy-tripdata.csv\", \n",
    "                       show_col_types = FALSE)\n",
    "df_2024_10 <- read_csv(\"../input/tripdata/202410-divvy-tripdata.csv\", \n",
    "                       show_col_types = FALSE)\n",
    "df_2024_11 <- read_csv(\"../input/tripdata/202411-divvy-tripdata.csv\", \n",
    "                       show_col_types = FALSE)"
   ]
  },
  {
   "cell_type": "code",
   "execution_count": 2,
   "id": "772544f9",
   "metadata": {
    "execution": {
     "iopub.execute_input": "2025-02-19T11:11:56.544058Z",
     "iopub.status.busy": "2025-02-19T11:11:56.513634Z",
     "iopub.status.idle": "2025-02-19T11:11:56.568410Z",
     "shell.execute_reply": "2025-02-19T11:11:56.566350Z"
    },
    "papermill": {
     "duration": 0.069662,
     "end_time": "2025-02-19T11:11:56.570809",
     "exception": false,
     "start_time": "2025-02-19T11:11:56.501147",
     "status": "completed"
    },
    "tags": []
   },
   "outputs": [
    {
     "name": "stdout",
     "output_type": "stream",
     "text": [
      "[1] \"Los data frame tienen la misma estructura de columnas\"\n"
     ]
    }
   ],
   "source": [
    "\n",
    "# Se guardan los data frames en una lista, para verificar su estructura de columnas y tipo de datos\n",
    "data_frames <- list(\n",
    "    df_2023_12, df_2024_01, df_2024_02, df_2024_03, df_2024_04, df_2024_05,\n",
    "    df_2024_06, df_2024_07, df_2024_08, df_2024_09, df_2024_10, df_2024_11\n",
    ")\n",
    "\n",
    "# Se obtienen los nombres de todas las columnas de los data frames\n",
    "columnas <- lapply(data_frames, colnames)\n",
    "\n",
    "#Se verifica que todas las columnas en orden, nombre y cantidad sean iguales\n",
    "columnas_iguales <- all(\n",
    "    sapply(columnas, function(x) identical(x, columnas[[1]]))\n",
    ")\n",
    "\n",
    "if (columnas_iguales) {                              \n",
    "  print(\"Los data frame tienen la misma estructura de columnas\")\n",
    "} else {\n",
    "  print(\"Se encontraron diferencias en las columnas de los data frame.\")\n",
    "}"
   ]
  },
  {
   "cell_type": "code",
   "execution_count": 3,
   "id": "06bf0004",
   "metadata": {
    "execution": {
     "iopub.execute_input": "2025-02-19T11:11:56.595463Z",
     "iopub.status.busy": "2025-02-19T11:11:56.593818Z",
     "iopub.status.idle": "2025-02-19T11:11:56.622105Z",
     "shell.execute_reply": "2025-02-19T11:11:56.619854Z"
    },
    "papermill": {
     "duration": 0.043466,
     "end_time": "2025-02-19T11:11:56.624684",
     "exception": false,
     "start_time": "2025-02-19T11:11:56.581218",
     "status": "completed"
    },
    "tags": []
   },
   "outputs": [
    {
     "name": "stdout",
     "output_type": "stream",
     "text": [
      "[1] \"Los data frames tienen los mismos tipos de datos en sus columnas.\"\n"
     ]
    }
   ],
   "source": [
    "# Se obtienen los tipos de datos de todas las columnas de los data frames\n",
    "tipos_columnas <- lapply(data_frames, function(df) sapply(df, class))\n",
    "\n",
    "# Se verifica si el tipo de datos de las columnas de los data son iguales o no\n",
    "tipos_iguales <- all(\n",
    "    sapply(tipos_columnas, function(x) identical(x, tipos_columnas[[1]]))\n",
    ")\n",
    "\n",
    "if (tipos_iguales) {\n",
    "  print(\"Los data frames tienen los mismos tipos de datos en sus columnas.\")\n",
    "} else {\n",
    "  print(\"Existen diferencias en los tipos de datos de las columnas.\")\n",
    "}"
   ]
  },
  {
   "cell_type": "markdown",
   "id": "be5a7f2f",
   "metadata": {
    "papermill": {
     "duration": 0.010756,
     "end_time": "2025-02-19T11:11:56.646398",
     "exception": false,
     "start_time": "2025-02-19T11:11:56.635642",
     "status": "completed"
    },
    "tags": []
   },
   "source": [
    "Finalmente ya siendo verificado que todos los data frame, contienen la misma estructura de columnas y los mismos tipos de dato, se procede a unificarlos en un solo data frame llamado tripdata, y el cual se utilizara para el siguiente paso. "
   ]
  },
  {
   "cell_type": "code",
   "execution_count": 4,
   "id": "6db845bd",
   "metadata": {
    "execution": {
     "iopub.execute_input": "2025-02-19T11:11:56.672219Z",
     "iopub.status.busy": "2025-02-19T11:11:56.669953Z",
     "iopub.status.idle": "2025-02-19T11:12:01.678925Z",
     "shell.execute_reply": "2025-02-19T11:12:01.676926Z"
    },
    "papermill": {
     "duration": 5.024487,
     "end_time": "2025-02-19T11:12:01.681489",
     "exception": false,
     "start_time": "2025-02-19T11:11:56.657002",
     "status": "completed"
    },
    "tags": []
   },
   "outputs": [],
   "source": [
    "# Uniendo los datos en un solo data frame\n",
    "tripdata <- bind_rows(data_frames)"
   ]
  },
  {
   "cell_type": "markdown",
   "id": "bd258f74",
   "metadata": {
    "papermill": {
     "duration": 0.012623,
     "end_time": "2025-02-19T11:12:01.704688",
     "exception": false,
     "start_time": "2025-02-19T11:12:01.692065",
     "status": "completed"
    },
    "tags": []
   },
   "source": [
    "### **3. Procesar los datos**\n",
    "\n",
    "Ahora que los datos han sido unificados en un solo data frame, se procederá a examinarlos, verificar si existen errores, realizar una limpieza de estos, y transformarlos en caso de ser necesitario, con el fin de poder trabajar con ellos eficazmente. Comenzaremos por obtener una vista general de los datos. "
   ]
  },
  {
   "cell_type": "code",
   "execution_count": 5,
   "id": "bf2ccbfa",
   "metadata": {
    "execution": {
     "iopub.execute_input": "2025-02-19T11:12:01.730894Z",
     "iopub.status.busy": "2025-02-19T11:12:01.729240Z",
     "iopub.status.idle": "2025-02-19T11:12:01.771097Z",
     "shell.execute_reply": "2025-02-19T11:12:01.769020Z"
    },
    "papermill": {
     "duration": 0.058469,
     "end_time": "2025-02-19T11:12:01.774255",
     "exception": false,
     "start_time": "2025-02-19T11:12:01.715786",
     "status": "completed"
    },
    "tags": []
   },
   "outputs": [
    {
     "name": "stdout",
     "output_type": "stream",
     "text": [
      "Rows: 5,906,269\n",
      "Columns: 13\n",
      "$ ride_id            \u001b[3m\u001b[90m<chr>\u001b[39m\u001b[23m \"C9BD54F578F57246\", \"CDBD92F067FA620E\", \"ABC0858E52…\n",
      "$ rideable_type      \u001b[3m\u001b[90m<chr>\u001b[39m\u001b[23m \"electric_bike\", \"electric_bike\", \"electric_bike\", …\n",
      "$ started_at         \u001b[3m\u001b[90m<dttm>\u001b[39m\u001b[23m 2023-12-02 18:44:01, 2023-12-02 18:48:19, 2023-12-…\n",
      "$ ended_at           \u001b[3m\u001b[90m<dttm>\u001b[39m\u001b[23m 2023-12-02 18:47:51, 2023-12-02 18:54:48, 2023-12-…\n",
      "$ start_station_name \u001b[3m\u001b[90m<chr>\u001b[39m\u001b[23m NA, NA, NA, NA, NA, NA, NA, NA, NA, NA, NA, NA, NA,…\n",
      "$ start_station_id   \u001b[3m\u001b[90m<chr>\u001b[39m\u001b[23m NA, NA, NA, NA, NA, NA, NA, NA, NA, NA, NA, NA, NA,…\n",
      "$ end_station_name   \u001b[3m\u001b[90m<chr>\u001b[39m\u001b[23m NA, NA, NA, NA, NA, NA, NA, NA, NA, NA, NA, NA, NA,…\n",
      "$ end_station_id     \u001b[3m\u001b[90m<chr>\u001b[39m\u001b[23m NA, NA, NA, NA, NA, NA, NA, NA, NA, NA, NA, NA, NA,…\n",
      "$ start_lat          \u001b[3m\u001b[90m<dbl>\u001b[39m\u001b[23m 41.92, 41.92, 41.89, 41.95, 41.92, 41.91, 41.99, 42…\n",
      "$ start_lng          \u001b[3m\u001b[90m<dbl>\u001b[39m\u001b[23m -87.66, -87.66, -87.62, -87.65, -87.64, -87.63, -87…\n",
      "$ end_lat            \u001b[3m\u001b[90m<dbl>\u001b[39m\u001b[23m 41.92, 41.89, 41.90, 41.94, 41.93, 41.88, 42.00, 41…\n",
      "$ end_lng            \u001b[3m\u001b[90m<dbl>\u001b[39m\u001b[23m -87.66, -87.64, -87.64, -87.65, -87.64, -87.65, -87…\n",
      "$ member_casual      \u001b[3m\u001b[90m<chr>\u001b[39m\u001b[23m \"member\", \"member\", \"member\", \"member\", \"member\", \"…\n"
     ]
    }
   ],
   "source": [
    "# Se obtiene información del data frame\n",
    "glimpse(tripdata)"
   ]
  },
  {
   "cell_type": "markdown",
   "id": "789192aa",
   "metadata": {
    "papermill": {
     "duration": 0.011306,
     "end_time": "2025-02-19T11:12:01.796486",
     "exception": false,
     "start_time": "2025-02-19T11:12:01.785180",
     "status": "completed"
    },
    "tags": []
   },
   "source": [
    "Se obtiene que el data frame contiene 13 columnas y 5.906.269 de observaciones. Este tiene información del id y el tipo de bicicleta utilizado en el viaje, la fecha y hora del inicio y fin del viaje, el nombre e id de la estación de inicio y fin del viaje, la latitud y longitud de la estación de inicio y fin del viaje, y el tipo de usuario que realizo el viaje.\n",
    "\n",
    "A continuación, se procederá a limpiar el data frame eliminando filas duplicadas y aquellas que contengan valores NA. Luego, se revisarán las etiquetas de las columnas member_casual y rideable_type para detectar y corregir posibles inconsistencias."
   ]
  },
  {
   "cell_type": "code",
   "execution_count": 6,
   "id": "7eb0aa15",
   "metadata": {
    "execution": {
     "iopub.execute_input": "2025-02-19T11:12:01.823894Z",
     "iopub.status.busy": "2025-02-19T11:12:01.822387Z",
     "iopub.status.idle": "2025-02-19T11:12:11.134950Z",
     "shell.execute_reply": "2025-02-19T11:12:11.132476Z"
    },
    "papermill": {
     "duration": 9.329771,
     "end_time": "2025-02-19T11:12:11.138519",
     "exception": false,
     "start_time": "2025-02-19T11:12:01.808748",
     "status": "completed"
    },
    "tags": []
   },
   "outputs": [
    {
     "data": {
      "text/html": [
       "4244722"
      ],
      "text/latex": [
       "4244722"
      ],
      "text/markdown": [
       "4244722"
      ],
      "text/plain": [
       "[1] 4244722"
      ]
     },
     "metadata": {},
     "output_type": "display_data"
    }
   ],
   "source": [
    "# Se eliminan filas duplicadas del data frame\n",
    "tripdata <- distinct(tripdata)\n",
    "\n",
    "# Se eliminan filas con valores NA\n",
    "tripdata <- drop_na(tripdata)\n",
    "\n",
    "# Se revisa la cantidad de observaciones que quedan\n",
    "nrow(tripdata)"
   ]
  },
  {
   "cell_type": "code",
   "execution_count": 7,
   "id": "b3564e6c",
   "metadata": {
    "execution": {
     "iopub.execute_input": "2025-02-19T11:12:11.163525Z",
     "iopub.status.busy": "2025-02-19T11:12:11.161930Z",
     "iopub.status.idle": "2025-02-19T11:12:12.113827Z",
     "shell.execute_reply": "2025-02-19T11:12:12.111552Z"
    },
    "papermill": {
     "duration": 0.968058,
     "end_time": "2025-02-19T11:12:12.117091",
     "exception": false,
     "start_time": "2025-02-19T11:12:11.149033",
     "status": "completed"
    },
    "tags": []
   },
   "outputs": [
    {
     "data": {
      "text/plain": [
       "\n",
       " casual  member \n",
       "1530084 2714638 "
      ]
     },
     "metadata": {},
     "output_type": "display_data"
    },
    {
     "data": {
      "text/plain": [
       "\n",
       "    classic_bike    electric_bike electric_scooter \n",
       "         2762084          1434811            47827 "
      ]
     },
     "metadata": {},
     "output_type": "display_data"
    }
   ],
   "source": [
    "# Se revisan las etiquetas de la columnas member_casual\n",
    "table(tripdata$member_casual)\n",
    "\n",
    "# Se revisan las etiquetas de la columna rideable_type\n",
    "table(tripdata$rideable_type)"
   ]
  },
  {
   "cell_type": "markdown",
   "id": "92c4ce68",
   "metadata": {
    "execution": {
     "iopub.execute_input": "2025-01-15T16:01:10.524900Z",
     "iopub.status.busy": "2025-01-15T16:01:10.523434Z",
     "iopub.status.idle": "2025-01-15T16:01:10.543618Z",
     "shell.execute_reply": "2025-01-15T16:01:10.534072Z"
    },
    "papermill": {
     "duration": 0.011801,
     "end_time": "2025-02-19T11:12:12.140167",
     "exception": false,
     "start_time": "2025-02-19T11:12:12.128366",
     "status": "completed"
    },
    "tags": []
   },
   "source": [
    "Tras eliminar los valores duplicados y NA, el data frame se ha reducido a 4.244.722 observaciones. Además, se verificó que no existen inconsistencias en las etiquetas de las columnas member_casual y rideable_type. \n",
    "\n",
    "Pasaremos por lo tanto, a agregar algunas columnas que seran útiles para el posterior analisis. Se crearan variables de fecha que permitan realizar agregaciónes de año, mes y día. \n",
    "\n",
    "También se generará una columna llamada day_of_week donde se determinara en que día de la semana comenzo el viaje. Luego otra columna llamada day_type, para determinar si el viaje fue realizado un día de semana o fin de semana. Una colunma con nombre start_hour, para ver en que rango horario comenzaron los viajes. Y finalmente una columna llamada season para identificar las estaciones del año en que fueron realizados los viajes. \n",
    "\n",
    "Por último, se añadirá la columna ride_length, en la que se cálculara la duración de los viajes en segundo, restando el valor de la columna started_at al de ended_at. "
   ]
  },
  {
   "cell_type": "code",
   "execution_count": 8,
   "id": "e3f7c441",
   "metadata": {
    "execution": {
     "iopub.execute_input": "2025-02-19T11:12:12.167658Z",
     "iopub.status.busy": "2025-02-19T11:12:12.165414Z",
     "iopub.status.idle": "2025-02-19T11:12:21.686624Z",
     "shell.execute_reply": "2025-02-19T11:12:21.684813Z"
    },
    "papermill": {
     "duration": 9.538516,
     "end_time": "2025-02-19T11:12:21.690259",
     "exception": false,
     "start_time": "2025-02-19T11:12:12.151743",
     "status": "completed"
    },
    "tags": []
   },
   "outputs": [],
   "source": [
    "# Se crea columna date, con la fecha del viaje\n",
    "tripdata$date <- as.Date(tripdata$started_at)\n",
    "\n",
    "# Se crea columna month\n",
    "tripdata$month <- format(as.Date(tripdata$started_at), \"%m\")\n",
    "\n",
    "# Se transforman los valores de la columna month a tipo factor\n",
    "tripdata$month <- factor(\n",
    "    tripdata$month, \n",
    "    levels = sprintf(\"%02d\", 1:12), \n",
    "    labels = month.name # Se le asigna su nombre a cada mes\n",
    ")\n",
    "\n",
    "# Se crea columna day\n",
    "tripdata$day <- format(as.Date(tripdata$started_at), \"%d\")\n",
    "\n",
    "# Se crea columna year \n",
    "tripdata$year <- format(as.Date(tripdata$started_at), \"%Y\")"
   ]
  },
  {
   "cell_type": "code",
   "execution_count": 9,
   "id": "e4a3d127",
   "metadata": {
    "execution": {
     "iopub.execute_input": "2025-02-19T11:12:21.716015Z",
     "iopub.status.busy": "2025-02-19T11:12:21.714337Z",
     "iopub.status.idle": "2025-02-19T11:12:47.970291Z",
     "shell.execute_reply": "2025-02-19T11:12:47.968369Z"
    },
    "papermill": {
     "duration": 26.272012,
     "end_time": "2025-02-19T11:12:47.973046",
     "exception": false,
     "start_time": "2025-02-19T11:12:21.701034",
     "status": "completed"
    },
    "tags": []
   },
   "outputs": [],
   "source": [
    "# Se crea columna day_of_week\n",
    "tripdata$day_of_week <- format(as.Date(tripdata$started_at), \"%A\")\n",
    "\n",
    "# Se transforman los valores de la columna day_of_week a tipo factor\n",
    "tripdata$day_of_week <- factor(\n",
    "  tripdata$day_of_week, \n",
    "  levels = c(\"Monday\", \"Tuesday\", \"Wednesday\", \"Thursday\", \n",
    "             \"Friday\", \"Saturday\", \"Sunday\")\n",
    ")\n",
    "\n",
    "# Se crea columna day_type que diferencia entre días de semana y fines de semana\n",
    "tripdata$day_type <- ifelse(\n",
    "  tripdata$day_of_week %in% c(\"Saturday\", \"Sunday\"),\"weekend\", \"weekday\"\n",
    ")\n",
    "\n",
    "# Se crea columna season \n",
    "tripdata$season <- with(tripdata, case_when(\n",
    "  (format(started_at, \"%m-%d\") >= \"03-21\" \n",
    "     & format(started_at, \"%m-%d\") <= \"06-20\") ~ \"Spring\",\n",
    "  (format(started_at, \"%m-%d\") >= \"06-21\" \n",
    "     & format(started_at, \"%m-%d\") <= \"09-22\") ~ \"Summer\",\n",
    "  (format(started_at, \"%m-%d\") >= \"09-23\" \n",
    "     & format(started_at, \"%m-%d\") <= \"12-20\") ~ \"Autumn\",\n",
    "  TRUE ~ \"Winter\" \n",
    "))\n",
    "# Se transforman los valores de la columna season a tipo factor\n",
    "tripdata$season <- factor(\n",
    "  tripdata$season, \n",
    "  levels = c(\"Spring\", \"Summer\", \"Autumn\", \"Winter\")\n",
    ")\n",
    "\n",
    "# Se crea columna start_hour\n",
    "tripdata$start_hour <- format(tripdata$started_at, \"%H\")\n",
    "\n",
    "# Se transforman los valores de la columna start_hour a tipo factor\n",
    "tripdata$start_hour <- factor(tripdata$start_hour, levels = sprintf(\"%02d\", 0:23))\n"
   ]
  },
  {
   "cell_type": "code",
   "execution_count": 10,
   "id": "25b3b87a",
   "metadata": {
    "execution": {
     "iopub.execute_input": "2025-02-19T11:12:47.999581Z",
     "iopub.status.busy": "2025-02-19T11:12:47.997852Z",
     "iopub.status.idle": "2025-02-19T11:12:48.038520Z",
     "shell.execute_reply": "2025-02-19T11:12:48.036666Z"
    },
    "papermill": {
     "duration": 0.056388,
     "end_time": "2025-02-19T11:12:48.040995",
     "exception": false,
     "start_time": "2025-02-19T11:12:47.984607",
     "status": "completed"
    },
    "tags": []
   },
   "outputs": [],
   "source": [
    "# Se agrega columna ride_length con la duración en segundos del viaje\n",
    "tripdata$ride_length <- difftime(\n",
    "  tripdata$ended_at, \n",
    "  tripdata$started_at, \n",
    "  units = \"secs\"\n",
    ")\n",
    "\n",
    "# Se convierte el tipo de dato de ride_length a númerico\n",
    "tripdata$ride_length <- as.numeric(tripdata$ride_length)\n"
   ]
  },
  {
   "cell_type": "markdown",
   "id": "fd7da455",
   "metadata": {
    "papermill": {
     "duration": 0.010919,
     "end_time": "2025-02-19T11:12:48.062649",
     "exception": false,
     "start_time": "2025-02-19T11:12:48.051730",
     "status": "completed"
    },
    "tags": []
   },
   "source": [
    "Finalmente, se realiza una limpieza de datos erróneos que podrían afectar el análisis. Se crea un nuevo data frame llamado tripdata_clean, en el cual se eliminarán las filas de viajes que contengan en la columna start_station_name la etiqueta 'HQ QR', ya que esto indicaría que las bicicletas estaban en chequeos de calidad y, por lo tanto, no corresponderían a viajes reales.\n",
    "\n",
    "Además, se eliminarán las filas en las que el cálculo de la columna ride_length haya resultado en un valor negativo o igual a cero, ya que esto indicaría que los datos de inicio o finalización del viaje son erróneos o no tienen relevancia para el análisis."
   ]
  },
  {
   "cell_type": "code",
   "execution_count": 11,
   "id": "af0283dd",
   "metadata": {
    "execution": {
     "iopub.execute_input": "2025-02-19T11:12:48.088428Z",
     "iopub.status.busy": "2025-02-19T11:12:48.086776Z",
     "iopub.status.idle": "2025-02-19T11:12:48.948511Z",
     "shell.execute_reply": "2025-02-19T11:12:48.946049Z"
    },
    "papermill": {
     "duration": 0.877571,
     "end_time": "2025-02-19T11:12:48.951200",
     "exception": false,
     "start_time": "2025-02-19T11:12:48.073629",
     "status": "completed"
    },
    "tags": []
   },
   "outputs": [
    {
     "name": "stdout",
     "output_type": "stream",
     "text": [
      "Rows: 4,244,484\n",
      "Columns: 22\n",
      "$ ride_id            \u001b[3m\u001b[90m<chr>\u001b[39m\u001b[23m \"84BFC1F137684EAB\", \"EEC92D30A70471E5\", \"1C33464DEE…\n",
      "$ rideable_type      \u001b[3m\u001b[90m<chr>\u001b[39m\u001b[23m \"classic_bike\", \"classic_bike\", \"electric_bike\", \"c…\n",
      "$ started_at         \u001b[3m\u001b[90m<dttm>\u001b[39m\u001b[23m 2023-12-02 23:12:51, 2023-12-14 13:43:14, 2023-12-…\n",
      "$ ended_at           \u001b[3m\u001b[90m<dttm>\u001b[39m\u001b[23m 2023-12-02 23:21:01, 2023-12-14 13:44:14, 2023-12-…\n",
      "$ start_station_name \u001b[3m\u001b[90m<chr>\u001b[39m\u001b[23m \"DuSable Museum\", \"California Ave & Division St\", \"…\n",
      "$ start_station_id   \u001b[3m\u001b[90m<chr>\u001b[39m\u001b[23m \"KA1503000075\", \"13256\", \"20106\", \"TA1309000067\", \"…\n",
      "$ end_station_name   \u001b[3m\u001b[90m<chr>\u001b[39m\u001b[23m \"Cottage Grove Ave & 51st St\", \"California Ave & Di…\n",
      "$ end_station_id     \u001b[3m\u001b[90m<chr>\u001b[39m\u001b[23m \"TA1309000067\", \"13256\", \"20106\", \"TA1309000067\", \"…\n",
      "$ start_lat          \u001b[3m\u001b[90m<dbl>\u001b[39m\u001b[23m 41.79157, 41.90303, 41.71895, 41.80304, 41.80304, 4…\n",
      "$ start_lng          \u001b[3m\u001b[90m<dbl>\u001b[39m\u001b[23m -87.60785, -87.69747, -87.60831, -87.60662, -87.606…\n",
      "$ end_lat            \u001b[3m\u001b[90m<dbl>\u001b[39m\u001b[23m 41.80304, 41.90303, 41.71896, 41.80304, 41.80304, 4…\n",
      "$ end_lng            \u001b[3m\u001b[90m<dbl>\u001b[39m\u001b[23m -87.60662, -87.69747, -87.60830, -87.60662, -87.606…\n",
      "$ member_casual      \u001b[3m\u001b[90m<chr>\u001b[39m\u001b[23m \"member\", \"casual\", \"casual\", \"casual\", \"casual\", \"…\n",
      "$ date               \u001b[3m\u001b[90m<date>\u001b[39m\u001b[23m 2023-12-02, 2023-12-14, 2023-12-04, 2023-12-04, 20…\n",
      "$ month              \u001b[3m\u001b[90m<fct>\u001b[39m\u001b[23m December, December, December, December, December, D…\n",
      "$ day                \u001b[3m\u001b[90m<chr>\u001b[39m\u001b[23m \"02\", \"14\", \"04\", \"04\", \"04\", \"02\", \"27\", \"02\", \"24…\n",
      "$ year               \u001b[3m\u001b[90m<chr>\u001b[39m\u001b[23m \"2023\", \"2023\", \"2023\", \"2023\", \"2023\", \"2023\", \"20…\n",
      "$ day_of_week        \u001b[3m\u001b[90m<fct>\u001b[39m\u001b[23m Saturday, Thursday, Monday, Monday, Monday, Saturda…\n",
      "$ day_type           \u001b[3m\u001b[90m<chr>\u001b[39m\u001b[23m \"weekend\", \"weekday\", \"weekday\", \"weekday\", \"weekda…\n",
      "$ season             \u001b[3m\u001b[90m<fct>\u001b[39m\u001b[23m Autumn, Autumn, Autumn, Autumn, Autumn, Autumn, Win…\n",
      "$ start_hour         \u001b[3m\u001b[90m<fct>\u001b[39m\u001b[23m 23, 13, 11, 09, 09, 06, 23, 13, 07, 10, 09, 17, 10,…\n",
      "$ ride_length        \u001b[3m\u001b[90m<dbl>\u001b[39m\u001b[23m 490, 60, 1015, 94, 13, 154, 6448, 351, 459, 160, 7,…\n"
     ]
    }
   ],
   "source": [
    "# Se crea el nuevo data frame tripdata_clean con las limpieza de datos erroneos\n",
    "tripdata_clean <- tripdata[\n",
    "  !(tripdata$start_station_name == \"HQ QR\" | tripdata$ride_length <= 0), \n",
    "]\n",
    "\n",
    "# Finalmente verificamo nuestro nuevo data frame\n",
    "glimpse(tripdata_clean)"
   ]
  },
  {
   "cell_type": "markdown",
   "id": "cda78d4e",
   "metadata": {
    "execution": {
     "iopub.execute_input": "2025-01-17T11:31:07.516547Z",
     "iopub.status.busy": "2025-01-17T11:31:07.515014Z",
     "iopub.status.idle": "2025-01-17T11:31:07.530480Z",
     "shell.execute_reply": "2025-01-17T11:31:07.527470Z"
    },
    "papermill": {
     "duration": 0.011757,
     "end_time": "2025-02-19T11:12:48.975803",
     "exception": false,
     "start_time": "2025-02-19T11:12:48.964046",
     "status": "completed"
    },
    "tags": []
   },
   "source": [
    "### **4. Análisis**\n",
    "\n",
    "Ya con nuestro data frame limpio y con las modificaciones necesarias realizadas, se procedera al análisis. Este estara centrado en identificar tendencias y diferencias en el uso de las bicicletas entre los usuarios ocasionales y los miembros del programa de Cyclistic.\n",
    "\n",
    "Se comenzara por analizar la distribución porcentual en la cantidad de viajes realizados, dentro de los doce meses del año, como de los días de la semana, y de las horas del día, realizando la distinción entre la distribución que presentan los usuarios ocasionales y los miembros."
   ]
  },
  {
   "cell_type": "code",
   "execution_count": 12,
   "id": "4e8029f7",
   "metadata": {
    "execution": {
     "iopub.execute_input": "2025-02-19T11:12:49.003576Z",
     "iopub.status.busy": "2025-02-19T11:12:49.001902Z",
     "iopub.status.idle": "2025-02-19T11:12:49.667941Z",
     "shell.execute_reply": "2025-02-19T11:12:49.666065Z"
    },
    "papermill": {
     "duration": 0.682989,
     "end_time": "2025-02-19T11:12:49.670531",
     "exception": false,
     "start_time": "2025-02-19T11:12:48.987542",
     "status": "completed"
    },
    "tags": []
   },
   "outputs": [
    {
     "data": {
      "text/html": [
       "<table class=\"dataframe\">\n",
       "<caption>A tibble: 12 × 3</caption>\n",
       "<thead>\n",
       "\t<tr><th scope=col>month</th><th scope=col>casual</th><th scope=col>member</th></tr>\n",
       "\t<tr><th scope=col>&lt;fct&gt;</th><th scope=col>&lt;chr&gt;</th><th scope=col>&lt;chr&gt;</th></tr>\n",
       "</thead>\n",
       "<tbody>\n",
       "\t<tr><td>January  </td><td>1.16% </td><td>3.54% </td></tr>\n",
       "\t<tr><td>February </td><td>2.49% </td><td>5.40% </td></tr>\n",
       "\t<tr><td>March    </td><td>4.10% </td><td>6.17% </td></tr>\n",
       "\t<tr><td>April    </td><td>6.14% </td><td>7.51% </td></tr>\n",
       "\t<tr><td>May      </td><td>10.95%</td><td>10.12%</td></tr>\n",
       "\t<tr><td>June     </td><td>13.62%</td><td>10.53%</td></tr>\n",
       "\t<tr><td>July     </td><td>15.16%</td><td>11.38%</td></tr>\n",
       "\t<tr><td>August   </td><td>14.94%</td><td>11.52%</td></tr>\n",
       "\t<tr><td>September</td><td>14.13%</td><td>11.82%</td></tr>\n",
       "\t<tr><td>October  </td><td>10.42%</td><td>10.67%</td></tr>\n",
       "\t<tr><td>November </td><td>4.50% </td><td>6.53% </td></tr>\n",
       "\t<tr><td>December </td><td>2.40% </td><td>4.81% </td></tr>\n",
       "</tbody>\n",
       "</table>\n"
      ],
      "text/latex": [
       "A tibble: 12 × 3\n",
       "\\begin{tabular}{lll}\n",
       " month & casual & member\\\\\n",
       " <fct> & <chr> & <chr>\\\\\n",
       "\\hline\n",
       "\t January   & 1.16\\%  & 3.54\\% \\\\\n",
       "\t February  & 2.49\\%  & 5.40\\% \\\\\n",
       "\t March     & 4.10\\%  & 6.17\\% \\\\\n",
       "\t April     & 6.14\\%  & 7.51\\% \\\\\n",
       "\t May       & 10.95\\% & 10.12\\%\\\\\n",
       "\t June      & 13.62\\% & 10.53\\%\\\\\n",
       "\t July      & 15.16\\% & 11.38\\%\\\\\n",
       "\t August    & 14.94\\% & 11.52\\%\\\\\n",
       "\t September & 14.13\\% & 11.82\\%\\\\\n",
       "\t October   & 10.42\\% & 10.67\\%\\\\\n",
       "\t November  & 4.50\\%  & 6.53\\% \\\\\n",
       "\t December  & 2.40\\%  & 4.81\\% \\\\\n",
       "\\end{tabular}\n"
      ],
      "text/markdown": [
       "\n",
       "A tibble: 12 × 3\n",
       "\n",
       "| month &lt;fct&gt; | casual &lt;chr&gt; | member &lt;chr&gt; |\n",
       "|---|---|---|\n",
       "| January   | 1.16%  | 3.54%  |\n",
       "| February  | 2.49%  | 5.40%  |\n",
       "| March     | 4.10%  | 6.17%  |\n",
       "| April     | 6.14%  | 7.51%  |\n",
       "| May       | 10.95% | 10.12% |\n",
       "| June      | 13.62% | 10.53% |\n",
       "| July      | 15.16% | 11.38% |\n",
       "| August    | 14.94% | 11.52% |\n",
       "| September | 14.13% | 11.82% |\n",
       "| October   | 10.42% | 10.67% |\n",
       "| November  | 4.50%  | 6.53%  |\n",
       "| December  | 2.40%  | 4.81%  |\n",
       "\n"
      ],
      "text/plain": [
       "   month     casual member\n",
       "1  January   1.16%  3.54% \n",
       "2  February  2.49%  5.40% \n",
       "3  March     4.10%  6.17% \n",
       "4  April     6.14%  7.51% \n",
       "5  May       10.95% 10.12%\n",
       "6  June      13.62% 10.53%\n",
       "7  July      15.16% 11.38%\n",
       "8  August    14.94% 11.52%\n",
       "9  September 14.13% 11.82%\n",
       "10 October   10.42% 10.67%\n",
       "11 November  4.50%  6.53% \n",
       "12 December  2.40%  4.81% "
      ]
     },
     "metadata": {},
     "output_type": "display_data"
    }
   ],
   "source": [
    "# Se crea una tabla con la suma de los viajes por mes y tipo de usuario \n",
    "monthly_distribution <- tripdata_clean %>%\n",
    "  group_by(month, member_casual) %>%\n",
    "  summarize(count = n(), .groups = 'drop')\n",
    "\n",
    "# Distribución porcentual de viajes realizados por mes según el tipo de usuario\n",
    "monthly_distribution_percent <- monthly_distribution %>%\n",
    "  group_by(member_casual) %>%\n",
    "  mutate(percent = (count / sum(count)) * 100) %>%  \n",
    "  mutate(percent = sprintf(\"%.2f%%\", percent)) %>%  \n",
    "  select(month, member_casual, percent) %>%\n",
    "  pivot_wider(names_from = member_casual, values_from = percent) %>%\n",
    "  arrange(month) \n",
    "\n",
    "monthly_distribution_percent"
   ]
  },
  {
   "cell_type": "code",
   "execution_count": 13,
   "id": "b5518044",
   "metadata": {
    "execution": {
     "iopub.execute_input": "2025-02-19T11:12:49.697625Z",
     "iopub.status.busy": "2025-02-19T11:12:49.695906Z",
     "iopub.status.idle": "2025-02-19T11:12:51.202222Z",
     "shell.execute_reply": "2025-02-19T11:12:51.200407Z"
    },
    "papermill": {
     "duration": 1.522561,
     "end_time": "2025-02-19T11:12:51.204842",
     "exception": false,
     "start_time": "2025-02-19T11:12:49.682281",
     "status": "completed"
    },
    "tags": []
   },
   "outputs": [
    {
     "data": {
      "text/html": [
       "<table class=\"dataframe\">\n",
       "<caption>A tibble: 7 × 3</caption>\n",
       "<thead>\n",
       "\t<tr><th scope=col>day_of_week</th><th scope=col>casual</th><th scope=col>member</th></tr>\n",
       "\t<tr><th scope=col>&lt;fct&gt;</th><th scope=col>&lt;chr&gt;</th><th scope=col>&lt;chr&gt;</th></tr>\n",
       "</thead>\n",
       "<tbody>\n",
       "\t<tr><td>Monday   </td><td>11.75%</td><td>14.56%</td></tr>\n",
       "\t<tr><td>Tuesday  </td><td>10.62%</td><td>15.48%</td></tr>\n",
       "\t<tr><td>Wednesday</td><td>12.36%</td><td>16.70%</td></tr>\n",
       "\t<tr><td>Thursday </td><td>12.11%</td><td>15.58%</td></tr>\n",
       "\t<tr><td>Friday   </td><td>14.79%</td><td>14.24%</td></tr>\n",
       "\t<tr><td>Saturday </td><td>20.92%</td><td>12.49%</td></tr>\n",
       "\t<tr><td>Sunday   </td><td>17.44%</td><td>10.95%</td></tr>\n",
       "</tbody>\n",
       "</table>\n"
      ],
      "text/latex": [
       "A tibble: 7 × 3\n",
       "\\begin{tabular}{lll}\n",
       " day\\_of\\_week & casual & member\\\\\n",
       " <fct> & <chr> & <chr>\\\\\n",
       "\\hline\n",
       "\t Monday    & 11.75\\% & 14.56\\%\\\\\n",
       "\t Tuesday   & 10.62\\% & 15.48\\%\\\\\n",
       "\t Wednesday & 12.36\\% & 16.70\\%\\\\\n",
       "\t Thursday  & 12.11\\% & 15.58\\%\\\\\n",
       "\t Friday    & 14.79\\% & 14.24\\%\\\\\n",
       "\t Saturday  & 20.92\\% & 12.49\\%\\\\\n",
       "\t Sunday    & 17.44\\% & 10.95\\%\\\\\n",
       "\\end{tabular}\n"
      ],
      "text/markdown": [
       "\n",
       "A tibble: 7 × 3\n",
       "\n",
       "| day_of_week &lt;fct&gt; | casual &lt;chr&gt; | member &lt;chr&gt; |\n",
       "|---|---|---|\n",
       "| Monday    | 11.75% | 14.56% |\n",
       "| Tuesday   | 10.62% | 15.48% |\n",
       "| Wednesday | 12.36% | 16.70% |\n",
       "| Thursday  | 12.11% | 15.58% |\n",
       "| Friday    | 14.79% | 14.24% |\n",
       "| Saturday  | 20.92% | 12.49% |\n",
       "| Sunday    | 17.44% | 10.95% |\n",
       "\n"
      ],
      "text/plain": [
       "  day_of_week casual member\n",
       "1 Monday      11.75% 14.56%\n",
       "2 Tuesday     10.62% 15.48%\n",
       "3 Wednesday   12.36% 16.70%\n",
       "4 Thursday    12.11% 15.58%\n",
       "5 Friday      14.79% 14.24%\n",
       "6 Saturday    20.92% 12.49%\n",
       "7 Sunday      17.44% 10.95%"
      ]
     },
     "metadata": {},
     "output_type": "display_data"
    }
   ],
   "source": [
    "# Se crea una tabla con la suma de los viajes por día de la semana y tipo de usuario \n",
    "weekly_distribution <- tripdata_clean %>%\n",
    "  group_by(day_of_week, member_casual) %>%\n",
    "  summarize(count = n(), .groups = 'drop')\n",
    "\n",
    "# Distribución porcentual de viajes realizados en los días de la semana \n",
    "weekly_distribution_percent <- weekly_distribution %>%\n",
    "  group_by(member_casual) %>%\n",
    "  mutate(percent = (count / sum(count)) * 100) %>%  \n",
    "  mutate(percent = sprintf(\"%.2f%%\", percent)) %>%  \n",
    "  select(day_of_week, member_casual, percent) %>%\n",
    "  pivot_wider(names_from = member_casual, values_from = percent) %>% \n",
    "  arrange(day_of_week)\n",
    "\n",
    "weekly_distribution_percent"
   ]
  },
  {
   "cell_type": "code",
   "execution_count": 14,
   "id": "9dae2532",
   "metadata": {
    "execution": {
     "iopub.execute_input": "2025-02-19T11:12:51.272056Z",
     "iopub.status.busy": "2025-02-19T11:12:51.270404Z",
     "iopub.status.idle": "2025-02-19T11:12:51.458017Z",
     "shell.execute_reply": "2025-02-19T11:12:51.456094Z"
    },
    "papermill": {
     "duration": 0.203997,
     "end_time": "2025-02-19T11:12:51.460641",
     "exception": false,
     "start_time": "2025-02-19T11:12:51.256644",
     "status": "completed"
    },
    "tags": []
   },
   "outputs": [
    {
     "data": {
      "text/html": [
       "<table class=\"dataframe\">\n",
       "<caption>A tibble: 24 × 3</caption>\n",
       "<thead>\n",
       "\t<tr><th scope=col>start_hour</th><th scope=col>casual</th><th scope=col>member</th></tr>\n",
       "\t<tr><th scope=col>&lt;fct&gt;</th><th scope=col>&lt;chr&gt;</th><th scope=col>&lt;chr&gt;</th></tr>\n",
       "</thead>\n",
       "<tbody>\n",
       "\t<tr><td>00</td><td>1.47%</td><td>0.74% </td></tr>\n",
       "\t<tr><td>01</td><td>0.98%</td><td>0.43% </td></tr>\n",
       "\t<tr><td>02</td><td>0.57%</td><td>0.23% </td></tr>\n",
       "\t<tr><td>03</td><td>0.31%</td><td>0.16% </td></tr>\n",
       "\t<tr><td>04</td><td>0.24%</td><td>0.20% </td></tr>\n",
       "\t<tr><td>05</td><td>0.55%</td><td>0.96% </td></tr>\n",
       "\t<tr><td>06</td><td>1.32%</td><td>2.99% </td></tr>\n",
       "\t<tr><td>07</td><td>2.54%</td><td>5.82% </td></tr>\n",
       "\t<tr><td>08</td><td>3.57%</td><td>7.18% </td></tr>\n",
       "\t<tr><td>09</td><td>3.63%</td><td>4.73% </td></tr>\n",
       "\t<tr><td>10</td><td>4.63%</td><td>4.16% </td></tr>\n",
       "\t<tr><td>11</td><td>5.89%</td><td>4.85% </td></tr>\n",
       "\t<tr><td>12</td><td>6.89%</td><td>5.53% </td></tr>\n",
       "\t<tr><td>13</td><td>7.14%</td><td>5.51% </td></tr>\n",
       "\t<tr><td>14</td><td>7.39%</td><td>5.53% </td></tr>\n",
       "\t<tr><td>15</td><td>8.07%</td><td>6.81% </td></tr>\n",
       "\t<tr><td>16</td><td>9.12%</td><td>9.45% </td></tr>\n",
       "\t<tr><td>17</td><td>9.63%</td><td>10.91%</td></tr>\n",
       "\t<tr><td>18</td><td>7.95%</td><td>8.14% </td></tr>\n",
       "\t<tr><td>19</td><td>5.72%</td><td>5.63% </td></tr>\n",
       "\t<tr><td>20</td><td>4.12%</td><td>3.89% </td></tr>\n",
       "\t<tr><td>21</td><td>3.34%</td><td>2.90% </td></tr>\n",
       "\t<tr><td>22</td><td>2.92%</td><td>2.02% </td></tr>\n",
       "\t<tr><td>23</td><td>2.03%</td><td>1.24% </td></tr>\n",
       "</tbody>\n",
       "</table>\n"
      ],
      "text/latex": [
       "A tibble: 24 × 3\n",
       "\\begin{tabular}{lll}\n",
       " start\\_hour & casual & member\\\\\n",
       " <fct> & <chr> & <chr>\\\\\n",
       "\\hline\n",
       "\t 00 & 1.47\\% & 0.74\\% \\\\\n",
       "\t 01 & 0.98\\% & 0.43\\% \\\\\n",
       "\t 02 & 0.57\\% & 0.23\\% \\\\\n",
       "\t 03 & 0.31\\% & 0.16\\% \\\\\n",
       "\t 04 & 0.24\\% & 0.20\\% \\\\\n",
       "\t 05 & 0.55\\% & 0.96\\% \\\\\n",
       "\t 06 & 1.32\\% & 2.99\\% \\\\\n",
       "\t 07 & 2.54\\% & 5.82\\% \\\\\n",
       "\t 08 & 3.57\\% & 7.18\\% \\\\\n",
       "\t 09 & 3.63\\% & 4.73\\% \\\\\n",
       "\t 10 & 4.63\\% & 4.16\\% \\\\\n",
       "\t 11 & 5.89\\% & 4.85\\% \\\\\n",
       "\t 12 & 6.89\\% & 5.53\\% \\\\\n",
       "\t 13 & 7.14\\% & 5.51\\% \\\\\n",
       "\t 14 & 7.39\\% & 5.53\\% \\\\\n",
       "\t 15 & 8.07\\% & 6.81\\% \\\\\n",
       "\t 16 & 9.12\\% & 9.45\\% \\\\\n",
       "\t 17 & 9.63\\% & 10.91\\%\\\\\n",
       "\t 18 & 7.95\\% & 8.14\\% \\\\\n",
       "\t 19 & 5.72\\% & 5.63\\% \\\\\n",
       "\t 20 & 4.12\\% & 3.89\\% \\\\\n",
       "\t 21 & 3.34\\% & 2.90\\% \\\\\n",
       "\t 22 & 2.92\\% & 2.02\\% \\\\\n",
       "\t 23 & 2.03\\% & 1.24\\% \\\\\n",
       "\\end{tabular}\n"
      ],
      "text/markdown": [
       "\n",
       "A tibble: 24 × 3\n",
       "\n",
       "| start_hour &lt;fct&gt; | casual &lt;chr&gt; | member &lt;chr&gt; |\n",
       "|---|---|---|\n",
       "| 00 | 1.47% | 0.74%  |\n",
       "| 01 | 0.98% | 0.43%  |\n",
       "| 02 | 0.57% | 0.23%  |\n",
       "| 03 | 0.31% | 0.16%  |\n",
       "| 04 | 0.24% | 0.20%  |\n",
       "| 05 | 0.55% | 0.96%  |\n",
       "| 06 | 1.32% | 2.99%  |\n",
       "| 07 | 2.54% | 5.82%  |\n",
       "| 08 | 3.57% | 7.18%  |\n",
       "| 09 | 3.63% | 4.73%  |\n",
       "| 10 | 4.63% | 4.16%  |\n",
       "| 11 | 5.89% | 4.85%  |\n",
       "| 12 | 6.89% | 5.53%  |\n",
       "| 13 | 7.14% | 5.51%  |\n",
       "| 14 | 7.39% | 5.53%  |\n",
       "| 15 | 8.07% | 6.81%  |\n",
       "| 16 | 9.12% | 9.45%  |\n",
       "| 17 | 9.63% | 10.91% |\n",
       "| 18 | 7.95% | 8.14%  |\n",
       "| 19 | 5.72% | 5.63%  |\n",
       "| 20 | 4.12% | 3.89%  |\n",
       "| 21 | 3.34% | 2.90%  |\n",
       "| 22 | 2.92% | 2.02%  |\n",
       "| 23 | 2.03% | 1.24%  |\n",
       "\n"
      ],
      "text/plain": [
       "   start_hour casual member\n",
       "1  00         1.47%  0.74% \n",
       "2  01         0.98%  0.43% \n",
       "3  02         0.57%  0.23% \n",
       "4  03         0.31%  0.16% \n",
       "5  04         0.24%  0.20% \n",
       "6  05         0.55%  0.96% \n",
       "7  06         1.32%  2.99% \n",
       "8  07         2.54%  5.82% \n",
       "9  08         3.57%  7.18% \n",
       "10 09         3.63%  4.73% \n",
       "11 10         4.63%  4.16% \n",
       "12 11         5.89%  4.85% \n",
       "13 12         6.89%  5.53% \n",
       "14 13         7.14%  5.51% \n",
       "15 14         7.39%  5.53% \n",
       "16 15         8.07%  6.81% \n",
       "17 16         9.12%  9.45% \n",
       "18 17         9.63%  10.91%\n",
       "19 18         7.95%  8.14% \n",
       "20 19         5.72%  5.63% \n",
       "21 20         4.12%  3.89% \n",
       "22 21         3.34%  2.90% \n",
       "23 22         2.92%  2.02% \n",
       "24 23         2.03%  1.24% "
      ]
     },
     "metadata": {},
     "output_type": "display_data"
    }
   ],
   "source": [
    "# Se crea una tabla con la suma de los viajes por rango horario y tipo de usuario\n",
    "hourly_distribution <- tripdata_clean %>%\n",
    "  group_by(start_hour, member_casual) %>%\n",
    "  summarize(count = n(), .groups = 'drop')\n",
    "\n",
    "# Distribución porcentual de viajes realizados en los distintos rangos horarios\n",
    "hourly_distribution_percent <- hourly_distribution %>%\n",
    "  group_by(member_casual) %>%\n",
    "  mutate(percent = (count / sum(count)) * 100) %>%  \n",
    "  mutate(percent = sprintf(\"%.2f%%\", percent)) %>%  \n",
    "  select(start_hour, member_casual, percent) %>%\n",
    "  pivot_wider(names_from = member_casual, values_from = percent) %>% \n",
    "  arrange(start_hour)\n",
    "\n",
    "hourly_distribution_percent"
   ]
  },
  {
   "cell_type": "markdown",
   "id": "c133254b",
   "metadata": {
    "papermill": {
     "duration": 0.011768,
     "end_time": "2025-02-19T11:12:51.484259",
     "exception": false,
     "start_time": "2025-02-19T11:12:51.472491",
     "status": "completed"
    },
    "tags": []
   },
   "source": [
    "Para especificar aún más nuestro análisis veremos la diferencia porcentual entre la cantidad de viajes realizados por los clientes ocasionales y miembros, para las estaciones del año, y una comparación entre los viajes de los días de semana y fines de semana. "
   ]
  },
  {
   "cell_type": "code",
   "execution_count": 15,
   "id": "44082bff",
   "metadata": {
    "execution": {
     "iopub.execute_input": "2025-02-19T11:12:51.511556Z",
     "iopub.status.busy": "2025-02-19T11:12:51.509848Z",
     "iopub.status.idle": "2025-02-19T11:12:51.665864Z",
     "shell.execute_reply": "2025-02-19T11:12:51.663505Z"
    },
    "papermill": {
     "duration": 0.172466,
     "end_time": "2025-02-19T11:12:51.668455",
     "exception": false,
     "start_time": "2025-02-19T11:12:51.495989",
     "status": "completed"
    },
    "tags": []
   },
   "outputs": [
    {
     "data": {
      "text/html": [
       "<table class=\"dataframe\">\n",
       "<caption>A tibble: 4 × 3</caption>\n",
       "<thead>\n",
       "\t<tr><th scope=col>season</th><th scope=col>casual</th><th scope=col>member</th></tr>\n",
       "\t<tr><th scope=col>&lt;fct&gt;</th><th scope=col>&lt;chr&gt;</th><th scope=col>&lt;chr&gt;</th></tr>\n",
       "</thead>\n",
       "<tbody>\n",
       "\t<tr><td>Spring</td><td>26.96%</td><td>26.69%</td></tr>\n",
       "\t<tr><td>Summer</td><td>46.16%</td><td>35.20%</td></tr>\n",
       "\t<tr><td>Autumn</td><td>19.70%</td><td>23.93%</td></tr>\n",
       "\t<tr><td>Winter</td><td>7.18% </td><td>14.18%</td></tr>\n",
       "</tbody>\n",
       "</table>\n"
      ],
      "text/latex": [
       "A tibble: 4 × 3\n",
       "\\begin{tabular}{lll}\n",
       " season & casual & member\\\\\n",
       " <fct> & <chr> & <chr>\\\\\n",
       "\\hline\n",
       "\t Spring & 26.96\\% & 26.69\\%\\\\\n",
       "\t Summer & 46.16\\% & 35.20\\%\\\\\n",
       "\t Autumn & 19.70\\% & 23.93\\%\\\\\n",
       "\t Winter & 7.18\\%  & 14.18\\%\\\\\n",
       "\\end{tabular}\n"
      ],
      "text/markdown": [
       "\n",
       "A tibble: 4 × 3\n",
       "\n",
       "| season &lt;fct&gt; | casual &lt;chr&gt; | member &lt;chr&gt; |\n",
       "|---|---|---|\n",
       "| Spring | 26.96% | 26.69% |\n",
       "| Summer | 46.16% | 35.20% |\n",
       "| Autumn | 19.70% | 23.93% |\n",
       "| Winter | 7.18%  | 14.18% |\n",
       "\n"
      ],
      "text/plain": [
       "  season casual member\n",
       "1 Spring 26.96% 26.69%\n",
       "2 Summer 46.16% 35.20%\n",
       "3 Autumn 19.70% 23.93%\n",
       "4 Winter 7.18%  14.18%"
      ]
     },
     "metadata": {},
     "output_type": "display_data"
    }
   ],
   "source": [
    "# Se crea una tabla con la suma de los viajes por estación del año y tipo de usuario \n",
    "season_distribution <- tripdata_clean %>%\n",
    "  group_by(season, member_casual) %>%\n",
    "  summarize(count = n(), .groups = 'drop')\n",
    "\n",
    "# Distribución porcentual de viajes realizados en las estaciones del año\n",
    "season_distribution_percent <- season_distribution %>%\n",
    "  group_by(member_casual) %>%\n",
    "  mutate(percent = (count / sum(count)) * 100) %>%  \n",
    "  mutate(percent = sprintf(\"%.2f%%\", percent)) %>%  \n",
    "  select(season, member_casual, percent) %>%\n",
    "  pivot_wider(names_from = member_casual, values_from = percent)\n",
    "\n",
    "season_distribution_percent"
   ]
  },
  {
   "cell_type": "code",
   "execution_count": 16,
   "id": "0777aa73",
   "metadata": {
    "execution": {
     "iopub.execute_input": "2025-02-19T11:12:51.697026Z",
     "iopub.status.busy": "2025-02-19T11:12:51.695290Z",
     "iopub.status.idle": "2025-02-19T11:12:51.939783Z",
     "shell.execute_reply": "2025-02-19T11:12:51.937878Z"
    },
    "papermill": {
     "duration": 0.261635,
     "end_time": "2025-02-19T11:12:51.942278",
     "exception": false,
     "start_time": "2025-02-19T11:12:51.680643",
     "status": "completed"
    },
    "tags": []
   },
   "outputs": [
    {
     "data": {
      "text/html": [
       "<table class=\"dataframe\">\n",
       "<caption>A tibble: 2 × 3</caption>\n",
       "<thead>\n",
       "\t<tr><th scope=col>day_type</th><th scope=col>casual</th><th scope=col>member</th></tr>\n",
       "\t<tr><th scope=col>&lt;chr&gt;</th><th scope=col>&lt;chr&gt;</th><th scope=col>&lt;chr&gt;</th></tr>\n",
       "</thead>\n",
       "<tbody>\n",
       "\t<tr><td>weekday</td><td>61.64%</td><td>76.56%</td></tr>\n",
       "\t<tr><td>weekend</td><td>38.36%</td><td>23.44%</td></tr>\n",
       "</tbody>\n",
       "</table>\n"
      ],
      "text/latex": [
       "A tibble: 2 × 3\n",
       "\\begin{tabular}{lll}\n",
       " day\\_type & casual & member\\\\\n",
       " <chr> & <chr> & <chr>\\\\\n",
       "\\hline\n",
       "\t weekday & 61.64\\% & 76.56\\%\\\\\n",
       "\t weekend & 38.36\\% & 23.44\\%\\\\\n",
       "\\end{tabular}\n"
      ],
      "text/markdown": [
       "\n",
       "A tibble: 2 × 3\n",
       "\n",
       "| day_type &lt;chr&gt; | casual &lt;chr&gt; | member &lt;chr&gt; |\n",
       "|---|---|---|\n",
       "| weekday | 61.64% | 76.56% |\n",
       "| weekend | 38.36% | 23.44% |\n",
       "\n"
      ],
      "text/plain": [
       "  day_type casual member\n",
       "1 weekday  61.64% 76.56%\n",
       "2 weekend  38.36% 23.44%"
      ]
     },
     "metadata": {},
     "output_type": "display_data"
    }
   ],
   "source": [
    "# Se crea una tabla con la suma de los viajes por día laboral o fin de semana\n",
    "day_type_distribution <- tripdata_clean %>%\n",
    "  group_by(day_type, member_casual) %>%\n",
    "  summarize(count = n(), .groups = 'drop')\n",
    "\n",
    "# Distribución porcentual de viajes realizados en cada tipo de día\n",
    "day_type_distribution_percent <- day_type_distribution %>%\n",
    "  group_by(member_casual) %>%\n",
    "  mutate(percent = (count / sum(count)) * 100) %>%  \n",
    "  mutate(percent = sprintf(\"%.2f%%\", percent)) %>%  \n",
    "  select(day_type, member_casual, percent) %>%\n",
    "  pivot_wider(names_from = member_casual, values_from = percent)\n",
    "\n",
    "day_type_distribution_percent"
   ]
  },
  {
   "cell_type": "markdown",
   "id": "ac53ed31",
   "metadata": {
    "papermill": {
     "duration": 0.012701,
     "end_time": "2025-02-19T11:12:51.967042",
     "exception": false,
     "start_time": "2025-02-19T11:12:51.954341",
     "status": "completed"
    },
    "tags": []
   },
   "source": [
    "También realizaremos una comparación entre los tiempos de viaje de los clientes ocasionales y los miembros, y cómo son los promedios de tiempo dentro de los días de la semana, y de los distintos meses del año para nuestros dos grupos de clientes.   "
   ]
  },
  {
   "cell_type": "code",
   "execution_count": 17,
   "id": "d27fb9cf",
   "metadata": {
    "execution": {
     "iopub.execute_input": "2025-02-19T11:12:51.996427Z",
     "iopub.status.busy": "2025-02-19T11:12:51.994460Z",
     "iopub.status.idle": "2025-02-19T11:12:52.314501Z",
     "shell.execute_reply": "2025-02-19T11:12:52.311790Z"
    },
    "papermill": {
     "duration": 0.338597,
     "end_time": "2025-02-19T11:12:52.318626",
     "exception": false,
     "start_time": "2025-02-19T11:12:51.980029",
     "status": "completed"
    },
    "tags": []
   },
   "outputs": [
    {
     "data": {
      "text/html": [
       "<table class=\"dataframe\">\n",
       "<caption>A tibble: 2 × 2</caption>\n",
       "<thead>\n",
       "\t<tr><th scope=col>member_casual</th><th scope=col>avg_ride_length</th></tr>\n",
       "\t<tr><th scope=col>&lt;chr&gt;</th><th scope=col>&lt;dbl&gt;</th></tr>\n",
       "</thead>\n",
       "<tbody>\n",
       "\t<tr><td>casual</td><td>1442.4515</td></tr>\n",
       "\t<tr><td>member</td><td> 747.9364</td></tr>\n",
       "</tbody>\n",
       "</table>\n"
      ],
      "text/latex": [
       "A tibble: 2 × 2\n",
       "\\begin{tabular}{ll}\n",
       " member\\_casual & avg\\_ride\\_length\\\\\n",
       " <chr> & <dbl>\\\\\n",
       "\\hline\n",
       "\t casual & 1442.4515\\\\\n",
       "\t member &  747.9364\\\\\n",
       "\\end{tabular}\n"
      ],
      "text/markdown": [
       "\n",
       "A tibble: 2 × 2\n",
       "\n",
       "| member_casual &lt;chr&gt; | avg_ride_length &lt;dbl&gt; |\n",
       "|---|---|\n",
       "| casual | 1442.4515 |\n",
       "| member |  747.9364 |\n",
       "\n"
      ],
      "text/plain": [
       "  member_casual avg_ride_length\n",
       "1 casual        1442.4515      \n",
       "2 member         747.9364      "
      ]
     },
     "metadata": {},
     "output_type": "display_data"
    }
   ],
   "source": [
    "# Tabla con los tiempos promedio de viaje para cada tipo de usuario\n",
    "average_ride_length <- tripdata_clean %>%\n",
    "  group_by(member_casual) %>%\n",
    "  summarize(avg_ride_length = mean(ride_length, na.rm = TRUE))\n",
    "\n",
    "average_ride_length"
   ]
  },
  {
   "cell_type": "code",
   "execution_count": 18,
   "id": "21b51a92",
   "metadata": {
    "execution": {
     "iopub.execute_input": "2025-02-19T11:12:52.347466Z",
     "iopub.status.busy": "2025-02-19T11:12:52.345227Z",
     "iopub.status.idle": "2025-02-19T11:12:52.757572Z",
     "shell.execute_reply": "2025-02-19T11:12:52.755402Z"
    },
    "papermill": {
     "duration": 0.4297,
     "end_time": "2025-02-19T11:12:52.760494",
     "exception": false,
     "start_time": "2025-02-19T11:12:52.330794",
     "status": "completed"
    },
    "tags": []
   },
   "outputs": [
    {
     "data": {
      "text/html": [
       "<table class=\"dataframe\">\n",
       "<caption>A tibble: 7 × 3</caption>\n",
       "<thead>\n",
       "\t<tr><th scope=col>day_of_week</th><th scope=col>casual</th><th scope=col>member</th></tr>\n",
       "\t<tr><th scope=col>&lt;fct&gt;</th><th scope=col>&lt;dbl&gt;</th><th scope=col>&lt;dbl&gt;</th></tr>\n",
       "</thead>\n",
       "<tbody>\n",
       "\t<tr><td>Monday   </td><td>1395.197</td><td>714.0121</td></tr>\n",
       "\t<tr><td>Tuesday  </td><td>1240.842</td><td>715.8631</td></tr>\n",
       "\t<tr><td>Wednesday</td><td>1281.723</td><td>729.2688</td></tr>\n",
       "\t<tr><td>Thursday </td><td>1253.012</td><td>715.1491</td></tr>\n",
       "\t<tr><td>Friday   </td><td>1389.760</td><td>726.3407</td></tr>\n",
       "\t<tr><td>Saturday </td><td>1633.448</td><td>838.5472</td></tr>\n",
       "\t<tr><td>Sunday   </td><td>1658.128</td><td>838.2401</td></tr>\n",
       "</tbody>\n",
       "</table>\n"
      ],
      "text/latex": [
       "A tibble: 7 × 3\n",
       "\\begin{tabular}{lll}\n",
       " day\\_of\\_week & casual & member\\\\\n",
       " <fct> & <dbl> & <dbl>\\\\\n",
       "\\hline\n",
       "\t Monday    & 1395.197 & 714.0121\\\\\n",
       "\t Tuesday   & 1240.842 & 715.8631\\\\\n",
       "\t Wednesday & 1281.723 & 729.2688\\\\\n",
       "\t Thursday  & 1253.012 & 715.1491\\\\\n",
       "\t Friday    & 1389.760 & 726.3407\\\\\n",
       "\t Saturday  & 1633.448 & 838.5472\\\\\n",
       "\t Sunday    & 1658.128 & 838.2401\\\\\n",
       "\\end{tabular}\n"
      ],
      "text/markdown": [
       "\n",
       "A tibble: 7 × 3\n",
       "\n",
       "| day_of_week &lt;fct&gt; | casual &lt;dbl&gt; | member &lt;dbl&gt; |\n",
       "|---|---|---|\n",
       "| Monday    | 1395.197 | 714.0121 |\n",
       "| Tuesday   | 1240.842 | 715.8631 |\n",
       "| Wednesday | 1281.723 | 729.2688 |\n",
       "| Thursday  | 1253.012 | 715.1491 |\n",
       "| Friday    | 1389.760 | 726.3407 |\n",
       "| Saturday  | 1633.448 | 838.5472 |\n",
       "| Sunday    | 1658.128 | 838.2401 |\n",
       "\n"
      ],
      "text/plain": [
       "  day_of_week casual   member  \n",
       "1 Monday      1395.197 714.0121\n",
       "2 Tuesday     1240.842 715.8631\n",
       "3 Wednesday   1281.723 729.2688\n",
       "4 Thursday    1253.012 715.1491\n",
       "5 Friday      1389.760 726.3407\n",
       "6 Saturday    1633.448 838.5472\n",
       "7 Sunday      1658.128 838.2401"
      ]
     },
     "metadata": {},
     "output_type": "display_data"
    }
   ],
   "source": [
    "# Tiempos de viaje promedio por día de la semana (clientes ocasionales y miembros)\n",
    "average_times_week <- tripdata_clean %>%\n",
    "  group_by(day_of_week, member_casual) %>%\n",
    "  summarize(\n",
    "    avg_ride_length = mean(ride_length, na.rm = TRUE), \n",
    "    .groups = \"drop\"\n",
    "  ) %>%\n",
    "  pivot_wider(names_from = member_casual, values_from = avg_ride_length) %>%\n",
    "  arrange(day_of_week)\n",
    "\n",
    "average_times_week"
   ]
  },
  {
   "cell_type": "code",
   "execution_count": 19,
   "id": "5c38764e",
   "metadata": {
    "execution": {
     "iopub.execute_input": "2025-02-19T11:12:52.789905Z",
     "iopub.status.busy": "2025-02-19T11:12:52.787515Z",
     "iopub.status.idle": "2025-02-19T11:12:53.423514Z",
     "shell.execute_reply": "2025-02-19T11:12:53.421344Z"
    },
    "papermill": {
     "duration": 0.65329,
     "end_time": "2025-02-19T11:12:53.426046",
     "exception": false,
     "start_time": "2025-02-19T11:12:52.772756",
     "status": "completed"
    },
    "tags": []
   },
   "outputs": [
    {
     "data": {
      "text/html": [
       "<table class=\"dataframe\">\n",
       "<caption>A tibble: 12 × 3</caption>\n",
       "<thead>\n",
       "\t<tr><th scope=col>month</th><th scope=col>casual</th><th scope=col>member</th></tr>\n",
       "\t<tr><th scope=col>&lt;fct&gt;</th><th scope=col>&lt;dbl&gt;</th><th scope=col>&lt;dbl&gt;</th></tr>\n",
       "</thead>\n",
       "<tbody>\n",
       "\t<tr><td>January  </td><td> 932.2414</td><td>693.3893</td></tr>\n",
       "\t<tr><td>February </td><td>1189.5017</td><td>704.6847</td></tr>\n",
       "\t<tr><td>March    </td><td>1322.2046</td><td>684.1544</td></tr>\n",
       "\t<tr><td>April    </td><td>1486.5893</td><td>737.1641</td></tr>\n",
       "\t<tr><td>May      </td><td>1616.5783</td><td>798.2578</td></tr>\n",
       "\t<tr><td>June     </td><td>1587.0231</td><td>821.0368</td></tr>\n",
       "\t<tr><td>July     </td><td>1588.9000</td><td>812.4017</td></tr>\n",
       "\t<tr><td>August   </td><td>1488.8746</td><td>788.3134</td></tr>\n",
       "\t<tr><td>September</td><td>1329.1370</td><td>736.7307</td></tr>\n",
       "\t<tr><td>October  </td><td>1346.7238</td><td>712.8931</td></tr>\n",
       "\t<tr><td>November </td><td>1071.5552</td><td>657.1903</td></tr>\n",
       "\t<tr><td>December </td><td> 992.1727</td><td>648.2914</td></tr>\n",
       "</tbody>\n",
       "</table>\n"
      ],
      "text/latex": [
       "A tibble: 12 × 3\n",
       "\\begin{tabular}{lll}\n",
       " month & casual & member\\\\\n",
       " <fct> & <dbl> & <dbl>\\\\\n",
       "\\hline\n",
       "\t January   &  932.2414 & 693.3893\\\\\n",
       "\t February  & 1189.5017 & 704.6847\\\\\n",
       "\t March     & 1322.2046 & 684.1544\\\\\n",
       "\t April     & 1486.5893 & 737.1641\\\\\n",
       "\t May       & 1616.5783 & 798.2578\\\\\n",
       "\t June      & 1587.0231 & 821.0368\\\\\n",
       "\t July      & 1588.9000 & 812.4017\\\\\n",
       "\t August    & 1488.8746 & 788.3134\\\\\n",
       "\t September & 1329.1370 & 736.7307\\\\\n",
       "\t October   & 1346.7238 & 712.8931\\\\\n",
       "\t November  & 1071.5552 & 657.1903\\\\\n",
       "\t December  &  992.1727 & 648.2914\\\\\n",
       "\\end{tabular}\n"
      ],
      "text/markdown": [
       "\n",
       "A tibble: 12 × 3\n",
       "\n",
       "| month &lt;fct&gt; | casual &lt;dbl&gt; | member &lt;dbl&gt; |\n",
       "|---|---|---|\n",
       "| January   |  932.2414 | 693.3893 |\n",
       "| February  | 1189.5017 | 704.6847 |\n",
       "| March     | 1322.2046 | 684.1544 |\n",
       "| April     | 1486.5893 | 737.1641 |\n",
       "| May       | 1616.5783 | 798.2578 |\n",
       "| June      | 1587.0231 | 821.0368 |\n",
       "| July      | 1588.9000 | 812.4017 |\n",
       "| August    | 1488.8746 | 788.3134 |\n",
       "| September | 1329.1370 | 736.7307 |\n",
       "| October   | 1346.7238 | 712.8931 |\n",
       "| November  | 1071.5552 | 657.1903 |\n",
       "| December  |  992.1727 | 648.2914 |\n",
       "\n"
      ],
      "text/plain": [
       "   month     casual    member  \n",
       "1  January    932.2414 693.3893\n",
       "2  February  1189.5017 704.6847\n",
       "3  March     1322.2046 684.1544\n",
       "4  April     1486.5893 737.1641\n",
       "5  May       1616.5783 798.2578\n",
       "6  June      1587.0231 821.0368\n",
       "7  July      1588.9000 812.4017\n",
       "8  August    1488.8746 788.3134\n",
       "9  September 1329.1370 736.7307\n",
       "10 October   1346.7238 712.8931\n",
       "11 November  1071.5552 657.1903\n",
       "12 December   992.1727 648.2914"
      ]
     },
     "metadata": {},
     "output_type": "display_data"
    }
   ],
   "source": [
    "# Tiempos de viaje promedio por mes para clientes ocasionales y miembros\n",
    "average_times_month <- tripdata_clean %>%\n",
    "  group_by(month, member_casual) %>%\n",
    "  summarize(\n",
    "      avg_ride_length = mean(ride_length, na.rm = TRUE), \n",
    "      .groups = \"drop\"\n",
    "  ) %>%\n",
    "  pivot_wider(names_from = member_casual, values_from = avg_ride_length) %>%\n",
    "  arrange(month)\n",
    "\n",
    "average_times_month"
   ]
  },
  {
   "cell_type": "markdown",
   "id": "7ef881ec",
   "metadata": {
    "papermill": {
     "duration": 0.012858,
     "end_time": "2025-02-19T11:12:53.453723",
     "exception": false,
     "start_time": "2025-02-19T11:12:53.440865",
     "status": "completed"
    },
    "tags": []
   },
   "source": [
    "Podemos ver que los tiempos promedio de viaje son más alto, en los días sabado y domingo, tanto para los clientes ocasionales como para los miembros, y que esta tendencia se marca también en los tiempos promedio de los meses de primavera y verano. \n",
    "\n",
    "Revisaremos por lo tanto, más a detalle las diferencias que existen entre los tiempos de viaje, que exiten entre los días de semana y los fines de semana, y los tiempos promedios entre las distintas estaciones del año."
   ]
  },
  {
   "cell_type": "code",
   "execution_count": 20,
   "id": "7bcd2a71",
   "metadata": {
    "execution": {
     "iopub.execute_input": "2025-02-19T11:12:53.483196Z",
     "iopub.status.busy": "2025-02-19T11:12:53.481654Z",
     "iopub.status.idle": "2025-02-19T11:12:53.745557Z",
     "shell.execute_reply": "2025-02-19T11:12:53.742999Z"
    },
    "papermill": {
     "duration": 0.282263,
     "end_time": "2025-02-19T11:12:53.748826",
     "exception": false,
     "start_time": "2025-02-19T11:12:53.466563",
     "status": "completed"
    },
    "tags": []
   },
   "outputs": [
    {
     "data": {
      "text/html": [
       "<table class=\"dataframe\">\n",
       "<caption>A tibble: 2 × 3</caption>\n",
       "<thead>\n",
       "\t<tr><th scope=col>day_type</th><th scope=col>casual</th><th scope=col>member</th></tr>\n",
       "\t<tr><th scope=col>&lt;chr&gt;</th><th scope=col>&lt;dbl&gt;</th><th scope=col>&lt;dbl&gt;</th></tr>\n",
       "</thead>\n",
       "<tbody>\n",
       "\t<tr><td>weekday</td><td>1316.597</td><td>720.2388</td></tr>\n",
       "\t<tr><td>weekend</td><td>1644.668</td><td>838.4038</td></tr>\n",
       "</tbody>\n",
       "</table>\n"
      ],
      "text/latex": [
       "A tibble: 2 × 3\n",
       "\\begin{tabular}{lll}\n",
       " day\\_type & casual & member\\\\\n",
       " <chr> & <dbl> & <dbl>\\\\\n",
       "\\hline\n",
       "\t weekday & 1316.597 & 720.2388\\\\\n",
       "\t weekend & 1644.668 & 838.4038\\\\\n",
       "\\end{tabular}\n"
      ],
      "text/markdown": [
       "\n",
       "A tibble: 2 × 3\n",
       "\n",
       "| day_type &lt;chr&gt; | casual &lt;dbl&gt; | member &lt;dbl&gt; |\n",
       "|---|---|---|\n",
       "| weekday | 1316.597 | 720.2388 |\n",
       "| weekend | 1644.668 | 838.4038 |\n",
       "\n"
      ],
      "text/plain": [
       "  day_type casual   member  \n",
       "1 weekday  1316.597 720.2388\n",
       "2 weekend  1644.668 838.4038"
      ]
     },
     "metadata": {},
     "output_type": "display_data"
    }
   ],
   "source": [
    "# Se cálculan los promedios de tiempo de viaje para días de semana y fines de semana\n",
    "average_times_day_type <- tripdata_clean %>%\n",
    "  group_by(day_type, member_casual) %>%\n",
    "  summarize(\n",
    "      avg_ride_length = mean(ride_length, na.rm = TRUE),\n",
    "      .groups = \"drop\"\n",
    "  ) %>%\n",
    "  pivot_wider(names_from = member_casual, values_from = avg_ride_length) \n",
    "\n",
    "average_times_day_type"
   ]
  },
  {
   "cell_type": "code",
   "execution_count": 21,
   "id": "819082b3",
   "metadata": {
    "execution": {
     "iopub.execute_input": "2025-02-19T11:12:53.777825Z",
     "iopub.status.busy": "2025-02-19T11:12:53.776235Z",
     "iopub.status.idle": "2025-02-19T11:12:54.019205Z",
     "shell.execute_reply": "2025-02-19T11:12:54.016748Z"
    },
    "papermill": {
     "duration": 0.261018,
     "end_time": "2025-02-19T11:12:54.022411",
     "exception": false,
     "start_time": "2025-02-19T11:12:53.761393",
     "status": "completed"
    },
    "tags": []
   },
   "outputs": [
    {
     "data": {
      "text/html": [
       "<table class=\"dataframe\">\n",
       "<caption>A tibble: 4 × 3</caption>\n",
       "<thead>\n",
       "\t<tr><th scope=col>season</th><th scope=col>casual</th><th scope=col>member</th></tr>\n",
       "\t<tr><th scope=col>&lt;fct&gt;</th><th scope=col>&lt;dbl&gt;</th><th scope=col>&lt;dbl&gt;</th></tr>\n",
       "</thead>\n",
       "<tbody>\n",
       "\t<tr><td>Spring</td><td>1551.582</td><td>775.0229</td></tr>\n",
       "\t<tr><td>Summer</td><td>1508.906</td><td>790.3017</td></tr>\n",
       "\t<tr><td>Autumn</td><td>1221.825</td><td>685.3346</td></tr>\n",
       "\t<tr><td>Winter</td><td>1210.868</td><td>697.4294</td></tr>\n",
       "</tbody>\n",
       "</table>\n"
      ],
      "text/latex": [
       "A tibble: 4 × 3\n",
       "\\begin{tabular}{lll}\n",
       " season & casual & member\\\\\n",
       " <fct> & <dbl> & <dbl>\\\\\n",
       "\\hline\n",
       "\t Spring & 1551.582 & 775.0229\\\\\n",
       "\t Summer & 1508.906 & 790.3017\\\\\n",
       "\t Autumn & 1221.825 & 685.3346\\\\\n",
       "\t Winter & 1210.868 & 697.4294\\\\\n",
       "\\end{tabular}\n"
      ],
      "text/markdown": [
       "\n",
       "A tibble: 4 × 3\n",
       "\n",
       "| season &lt;fct&gt; | casual &lt;dbl&gt; | member &lt;dbl&gt; |\n",
       "|---|---|---|\n",
       "| Spring | 1551.582 | 775.0229 |\n",
       "| Summer | 1508.906 | 790.3017 |\n",
       "| Autumn | 1221.825 | 685.3346 |\n",
       "| Winter | 1210.868 | 697.4294 |\n",
       "\n"
      ],
      "text/plain": [
       "  season casual   member  \n",
       "1 Spring 1551.582 775.0229\n",
       "2 Summer 1508.906 790.3017\n",
       "3 Autumn 1221.825 685.3346\n",
       "4 Winter 1210.868 697.4294"
      ]
     },
     "metadata": {},
     "output_type": "display_data"
    }
   ],
   "source": [
    "# Se calculan promedios de tiempos de viaje por estación del año\n",
    "average_times_season <- tripdata_clean %>%\n",
    "  group_by(season, member_casual) %>%\n",
    "  summarize(\n",
    "      avg_ride_length = mean(ride_length, na.rm = TRUE),\n",
    "      .groups = \"drop\"\n",
    "  ) %>%\n",
    "  pivot_wider(names_from = member_casual, values_from = avg_ride_length) \n",
    "\n",
    "average_times_season"
   ]
  },
  {
   "cell_type": "markdown",
   "id": "d2afe1b4",
   "metadata": {
    "papermill": {
     "duration": 0.013164,
     "end_time": "2025-02-19T11:12:54.049583",
     "exception": false,
     "start_time": "2025-02-19T11:12:54.036419",
     "status": "completed"
    },
    "tags": []
   },
   "source": [
    "Finalmente analizaremos que tipo de bicicletas utilizan más los clientes ocasionales y los miembros, y como son los tiempos promedio de viaje según el tipo de bicicleta. "
   ]
  },
  {
   "cell_type": "code",
   "execution_count": 22,
   "id": "e776cc2d",
   "metadata": {
    "execution": {
     "iopub.execute_input": "2025-02-19T11:12:54.080394Z",
     "iopub.status.busy": "2025-02-19T11:12:54.078768Z",
     "iopub.status.idle": "2025-02-19T11:12:54.341158Z",
     "shell.execute_reply": "2025-02-19T11:12:54.338771Z"
    },
    "papermill": {
     "duration": 0.280666,
     "end_time": "2025-02-19T11:12:54.344217",
     "exception": false,
     "start_time": "2025-02-19T11:12:54.063551",
     "status": "completed"
    },
    "tags": []
   },
   "outputs": [
    {
     "data": {
      "text/html": [
       "<table class=\"dataframe\">\n",
       "<caption>A tibble: 3 × 3</caption>\n",
       "<thead>\n",
       "\t<tr><th scope=col>rideable_type</th><th scope=col>casual</th><th scope=col>member</th></tr>\n",
       "\t<tr><th scope=col>&lt;chr&gt;</th><th scope=col>&lt;chr&gt;</th><th scope=col>&lt;chr&gt;</th></tr>\n",
       "</thead>\n",
       "<tbody>\n",
       "\t<tr><td>classic_bike    </td><td>63.80%</td><td>65.79%</td></tr>\n",
       "\t<tr><td>electric_bike   </td><td>34.52%</td><td>33.39%</td></tr>\n",
       "\t<tr><td>electric_scooter</td><td>1.68% </td><td>0.81% </td></tr>\n",
       "</tbody>\n",
       "</table>\n"
      ],
      "text/latex": [
       "A tibble: 3 × 3\n",
       "\\begin{tabular}{lll}\n",
       " rideable\\_type & casual & member\\\\\n",
       " <chr> & <chr> & <chr>\\\\\n",
       "\\hline\n",
       "\t classic\\_bike     & 63.80\\% & 65.79\\%\\\\\n",
       "\t electric\\_bike    & 34.52\\% & 33.39\\%\\\\\n",
       "\t electric\\_scooter & 1.68\\%  & 0.81\\% \\\\\n",
       "\\end{tabular}\n"
      ],
      "text/markdown": [
       "\n",
       "A tibble: 3 × 3\n",
       "\n",
       "| rideable_type &lt;chr&gt; | casual &lt;chr&gt; | member &lt;chr&gt; |\n",
       "|---|---|---|\n",
       "| classic_bike     | 63.80% | 65.79% |\n",
       "| electric_bike    | 34.52% | 33.39% |\n",
       "| electric_scooter | 1.68%  | 0.81%  |\n",
       "\n"
      ],
      "text/plain": [
       "  rideable_type    casual member\n",
       "1 classic_bike     63.80% 65.79%\n",
       "2 electric_bike    34.52% 33.39%\n",
       "3 electric_scooter 1.68%  0.81% "
      ]
     },
     "metadata": {},
     "output_type": "display_data"
    }
   ],
   "source": [
    "# Tabla con la cantidad de viajes realizados con cada tipo de bicicleta \n",
    "type_bike_usage <- tripdata_clean %>%\n",
    "  group_by(member_casual, rideable_type) %>%\n",
    "  summarize(count = n(), .groups = \"drop\") \n",
    "\n",
    "# Cálculo del porcentaje de viajes realizados con cada tipo de bicicleta\n",
    "type_bike_percent <- type_bike_usage %>%\n",
    "  group_by(member_casual) %>%  \n",
    "  mutate(percent = (count / sum(count)) * 100) %>%\n",
    "  mutate(percent = sprintf(\"%.2f%%\", percent)) %>%  \n",
    "  select(rideable_type, member_casual, percent) %>%\n",
    "  pivot_wider(names_from = member_casual, values_from = percent)\n",
    "\n",
    "type_bike_percent"
   ]
  },
  {
   "cell_type": "code",
   "execution_count": 23,
   "id": "b11e5f3c",
   "metadata": {
    "execution": {
     "iopub.execute_input": "2025-02-19T11:12:54.373972Z",
     "iopub.status.busy": "2025-02-19T11:12:54.372361Z",
     "iopub.status.idle": "2025-02-19T11:12:55.016206Z",
     "shell.execute_reply": "2025-02-19T11:12:55.014573Z"
    },
    "papermill": {
     "duration": 0.661462,
     "end_time": "2025-02-19T11:12:55.018590",
     "exception": false,
     "start_time": "2025-02-19T11:12:54.357128",
     "status": "completed"
    },
    "tags": []
   },
   "outputs": [
    {
     "data": {
      "text/html": [
       "<table class=\"dataframe\">\n",
       "<caption>A tibble: 3 × 3</caption>\n",
       "<thead>\n",
       "\t<tr><th scope=col>rideable_type</th><th scope=col>casual</th><th scope=col>member</th></tr>\n",
       "\t<tr><th scope=col>&lt;chr&gt;</th><th scope=col>&lt;dbl&gt;</th><th scope=col>&lt;dbl&gt;</th></tr>\n",
       "</thead>\n",
       "<tbody>\n",
       "\t<tr><td>classic_bike    </td><td>1740.5126</td><td>802.8503</td></tr>\n",
       "\t<tr><td>electric_bike   </td><td> 928.8629</td><td>646.4382</td></tr>\n",
       "\t<tr><td>electric_scooter</td><td> 677.9761</td><td>473.3882</td></tr>\n",
       "</tbody>\n",
       "</table>\n"
      ],
      "text/latex": [
       "A tibble: 3 × 3\n",
       "\\begin{tabular}{lll}\n",
       " rideable\\_type & casual & member\\\\\n",
       " <chr> & <dbl> & <dbl>\\\\\n",
       "\\hline\n",
       "\t classic\\_bike     & 1740.5126 & 802.8503\\\\\n",
       "\t electric\\_bike    &  928.8629 & 646.4382\\\\\n",
       "\t electric\\_scooter &  677.9761 & 473.3882\\\\\n",
       "\\end{tabular}\n"
      ],
      "text/markdown": [
       "\n",
       "A tibble: 3 × 3\n",
       "\n",
       "| rideable_type &lt;chr&gt; | casual &lt;dbl&gt; | member &lt;dbl&gt; |\n",
       "|---|---|---|\n",
       "| classic_bike     | 1740.5126 | 802.8503 |\n",
       "| electric_bike    |  928.8629 | 646.4382 |\n",
       "| electric_scooter |  677.9761 | 473.3882 |\n",
       "\n"
      ],
      "text/plain": [
       "  rideable_type    casual    member  \n",
       "1 classic_bike     1740.5126 802.8503\n",
       "2 electric_bike     928.8629 646.4382\n",
       "3 electric_scooter  677.9761 473.3882"
      ]
     },
     "metadata": {},
     "output_type": "display_data"
    }
   ],
   "source": [
    "# Se cálcula el tiempo promedio de viaje por cada tipo de bicicleta\n",
    "avg_time_bike_user <- tripdata_clean %>%\n",
    "  group_by(rideable_type, member_casual) %>%\n",
    "  summarize(\n",
    "      avg_ride_length = mean(ride_length, na.rm = TRUE),\n",
    "      .groups = \"drop\"\n",
    "  ) %>%\n",
    "  pivot_wider(names_from = member_casual, values_from = avg_ride_length)\n",
    "\n",
    "avg_time_bike_user"
   ]
  },
  {
   "cell_type": "markdown",
   "id": "b58fb421",
   "metadata": {
    "papermill": {
     "duration": 0.013751,
     "end_time": "2025-02-19T11:12:55.046209",
     "exception": false,
     "start_time": "2025-02-19T11:12:55.032458",
     "status": "completed"
    },
    "tags": []
   },
   "source": [
    "Se observa una preferencia clara por las bicicletas clasicas, tanto en los clientes ocasionales como en los miembros, cálcularemos si está preferencia varia entre días laborales y fines de semana, y entre las estaciones del año. "
   ]
  },
  {
   "cell_type": "code",
   "execution_count": 24,
   "id": "d1fa3f2c",
   "metadata": {
    "execution": {
     "iopub.execute_input": "2025-02-19T11:12:55.076942Z",
     "iopub.status.busy": "2025-02-19T11:12:55.075366Z",
     "iopub.status.idle": "2025-02-19T11:12:55.484179Z",
     "shell.execute_reply": "2025-02-19T11:12:55.481699Z"
    },
    "papermill": {
     "duration": 0.427918,
     "end_time": "2025-02-19T11:12:55.487451",
     "exception": false,
     "start_time": "2025-02-19T11:12:55.059533",
     "status": "completed"
    },
    "tags": []
   },
   "outputs": [
    {
     "data": {
      "text/html": [
       "<table class=\"dataframe\">\n",
       "<caption>A tibble: 3 × 3</caption>\n",
       "<thead>\n",
       "\t<tr><th scope=col>rideable_type</th><th scope=col>weekday</th><th scope=col>weekend</th></tr>\n",
       "\t<tr><th scope=col>&lt;chr&gt;</th><th scope=col>&lt;chr&gt;</th><th scope=col>&lt;chr&gt;</th></tr>\n",
       "</thead>\n",
       "<tbody>\n",
       "\t<tr><td>classic_bike    </td><td>61.09%</td><td>68.15%</td></tr>\n",
       "\t<tr><td>electric_bike   </td><td>36.93%</td><td>30.65%</td></tr>\n",
       "\t<tr><td>electric_scooter</td><td>1.98% </td><td>1.21% </td></tr>\n",
       "</tbody>\n",
       "</table>\n"
      ],
      "text/latex": [
       "A tibble: 3 × 3\n",
       "\\begin{tabular}{lll}\n",
       " rideable\\_type & weekday & weekend\\\\\n",
       " <chr> & <chr> & <chr>\\\\\n",
       "\\hline\n",
       "\t classic\\_bike     & 61.09\\% & 68.15\\%\\\\\n",
       "\t electric\\_bike    & 36.93\\% & 30.65\\%\\\\\n",
       "\t electric\\_scooter & 1.98\\%  & 1.21\\% \\\\\n",
       "\\end{tabular}\n"
      ],
      "text/markdown": [
       "\n",
       "A tibble: 3 × 3\n",
       "\n",
       "| rideable_type &lt;chr&gt; | weekday &lt;chr&gt; | weekend &lt;chr&gt; |\n",
       "|---|---|---|\n",
       "| classic_bike     | 61.09% | 68.15% |\n",
       "| electric_bike    | 36.93% | 30.65% |\n",
       "| electric_scooter | 1.98%  | 1.21%  |\n",
       "\n"
      ],
      "text/plain": [
       "  rideable_type    weekday weekend\n",
       "1 classic_bike     61.09%  68.15% \n",
       "2 electric_bike    36.93%  30.65% \n",
       "3 electric_scooter 1.98%   1.21%  "
      ]
     },
     "metadata": {},
     "output_type": "display_data"
    }
   ],
   "source": [
    "# Tipo de bicicleta que usan los clientes ocasionales en días de semanas y fines de semana\n",
    "bike_day_type_casual <- tripdata_clean %>%\n",
    "  filter(member_casual == \"casual\") %>% \n",
    "  group_by(day_type, rideable_type) %>%\n",
    "  summarize(count = n(), .groups = \"drop\") %>%\n",
    "  group_by(day_type) %>%\n",
    "  mutate(percent = (count / sum(count)) * 100) %>% \n",
    "  mutate(percent = sprintf(\"%.2f%%\", percent)) %>%\n",
    "  select(rideable_type, day_type, percent) %>%\n",
    "  pivot_wider(names_from = day_type, values_from = percent) \n",
    "\n",
    "bike_day_type_casual"
   ]
  },
  {
   "cell_type": "code",
   "execution_count": 25,
   "id": "6d415dae",
   "metadata": {
    "execution": {
     "iopub.execute_input": "2025-02-19T11:12:55.518019Z",
     "iopub.status.busy": "2025-02-19T11:12:55.516269Z",
     "iopub.status.idle": "2025-02-19T11:12:56.600461Z",
     "shell.execute_reply": "2025-02-19T11:12:56.598018Z"
    },
    "papermill": {
     "duration": 1.102688,
     "end_time": "2025-02-19T11:12:56.603662",
     "exception": false,
     "start_time": "2025-02-19T11:12:55.500974",
     "status": "completed"
    },
    "tags": []
   },
   "outputs": [
    {
     "data": {
      "text/html": [
       "<table class=\"dataframe\">\n",
       "<caption>A tibble: 3 × 3</caption>\n",
       "<thead>\n",
       "\t<tr><th scope=col>rideable_type</th><th scope=col>weekday</th><th scope=col>weekend</th></tr>\n",
       "\t<tr><th scope=col>&lt;chr&gt;</th><th scope=col>&lt;chr&gt;</th><th scope=col>&lt;chr&gt;</th></tr>\n",
       "</thead>\n",
       "<tbody>\n",
       "\t<tr><td>classic_bike    </td><td>65.12%</td><td>67.98%</td></tr>\n",
       "\t<tr><td>electric_bike   </td><td>34.02%</td><td>31.34%</td></tr>\n",
       "\t<tr><td>electric_scooter</td><td>0.85% </td><td>0.68% </td></tr>\n",
       "</tbody>\n",
       "</table>\n"
      ],
      "text/latex": [
       "A tibble: 3 × 3\n",
       "\\begin{tabular}{lll}\n",
       " rideable\\_type & weekday & weekend\\\\\n",
       " <chr> & <chr> & <chr>\\\\\n",
       "\\hline\n",
       "\t classic\\_bike     & 65.12\\% & 67.98\\%\\\\\n",
       "\t electric\\_bike    & 34.02\\% & 31.34\\%\\\\\n",
       "\t electric\\_scooter & 0.85\\%  & 0.68\\% \\\\\n",
       "\\end{tabular}\n"
      ],
      "text/markdown": [
       "\n",
       "A tibble: 3 × 3\n",
       "\n",
       "| rideable_type &lt;chr&gt; | weekday &lt;chr&gt; | weekend &lt;chr&gt; |\n",
       "|---|---|---|\n",
       "| classic_bike     | 65.12% | 67.98% |\n",
       "| electric_bike    | 34.02% | 31.34% |\n",
       "| electric_scooter | 0.85%  | 0.68%  |\n",
       "\n"
      ],
      "text/plain": [
       "  rideable_type    weekday weekend\n",
       "1 classic_bike     65.12%  67.98% \n",
       "2 electric_bike    34.02%  31.34% \n",
       "3 electric_scooter 0.85%   0.68%  "
      ]
     },
     "metadata": {},
     "output_type": "display_data"
    }
   ],
   "source": [
    "# Tipo de bicicleta que usan los miembros en días de semanas y fines de semana\n",
    "bike_day_type_member <- tripdata_clean %>%\n",
    "  filter(member_casual == \"member\") %>% \n",
    "  group_by(day_type, rideable_type) %>%\n",
    "  summarize(count = n(), .groups = \"drop\") %>%\n",
    "  group_by(day_type) %>%\n",
    "  mutate(percent = (count / sum(count)) * 100) %>% \n",
    "  mutate(percent = sprintf(\"%.2f%%\", percent)) %>%\n",
    "  select(rideable_type, day_type, percent) %>%\n",
    "  pivot_wider(names_from = day_type, values_from = percent) \n",
    "\n",
    "bike_day_type_member"
   ]
  },
  {
   "cell_type": "code",
   "execution_count": 26,
   "id": "806b7e81",
   "metadata": {
    "execution": {
     "iopub.execute_input": "2025-02-19T11:12:56.634488Z",
     "iopub.status.busy": "2025-02-19T11:12:56.632872Z",
     "iopub.status.idle": "2025-02-19T11:12:57.510018Z",
     "shell.execute_reply": "2025-02-19T11:12:57.507090Z"
    },
    "papermill": {
     "duration": 0.896386,
     "end_time": "2025-02-19T11:12:57.513465",
     "exception": false,
     "start_time": "2025-02-19T11:12:56.617079",
     "status": "completed"
    },
    "tags": []
   },
   "outputs": [
    {
     "data": {
      "text/html": [
       "<table class=\"dataframe\">\n",
       "<caption>A tibble: 3 × 5</caption>\n",
       "<thead>\n",
       "\t<tr><th scope=col>rideable_type</th><th scope=col>Spring</th><th scope=col>Summer</th><th scope=col>Autumn</th><th scope=col>Winter</th></tr>\n",
       "\t<tr><th scope=col>&lt;chr&gt;</th><th scope=col>&lt;chr&gt;</th><th scope=col>&lt;chr&gt;</th><th scope=col>&lt;chr&gt;</th><th scope=col>&lt;chr&gt;</th></tr>\n",
       "</thead>\n",
       "<tbody>\n",
       "\t<tr><td>classic_bike    </td><td>66.32%</td><td>64.58%</td><td>57.96%</td><td>65.32%</td></tr>\n",
       "\t<tr><td>electric_bike   </td><td>33.68%</td><td>32.68%</td><td>39.92%</td><td>34.68%</td></tr>\n",
       "\t<tr><td>electric_scooter</td><td>NA    </td><td>2.74% </td><td>2.12% </td><td>NA    </td></tr>\n",
       "</tbody>\n",
       "</table>\n"
      ],
      "text/latex": [
       "A tibble: 3 × 5\n",
       "\\begin{tabular}{lllll}\n",
       " rideable\\_type & Spring & Summer & Autumn & Winter\\\\\n",
       " <chr> & <chr> & <chr> & <chr> & <chr>\\\\\n",
       "\\hline\n",
       "\t classic\\_bike     & 66.32\\% & 64.58\\% & 57.96\\% & 65.32\\%\\\\\n",
       "\t electric\\_bike    & 33.68\\% & 32.68\\% & 39.92\\% & 34.68\\%\\\\\n",
       "\t electric\\_scooter & NA     & 2.74\\%  & 2.12\\%  & NA    \\\\\n",
       "\\end{tabular}\n"
      ],
      "text/markdown": [
       "\n",
       "A tibble: 3 × 5\n",
       "\n",
       "| rideable_type &lt;chr&gt; | Spring &lt;chr&gt; | Summer &lt;chr&gt; | Autumn &lt;chr&gt; | Winter &lt;chr&gt; |\n",
       "|---|---|---|---|---|\n",
       "| classic_bike     | 66.32% | 64.58% | 57.96% | 65.32% |\n",
       "| electric_bike    | 33.68% | 32.68% | 39.92% | 34.68% |\n",
       "| electric_scooter | NA     | 2.74%  | 2.12%  | NA     |\n",
       "\n"
      ],
      "text/plain": [
       "  rideable_type    Spring Summer Autumn Winter\n",
       "1 classic_bike     66.32% 64.58% 57.96% 65.32%\n",
       "2 electric_bike    33.68% 32.68% 39.92% 34.68%\n",
       "3 electric_scooter NA     2.74%  2.12%  NA    "
      ]
     },
     "metadata": {},
     "output_type": "display_data"
    }
   ],
   "source": [
    "# Tipo de bicicleta que usan los clientes ocasionales en las estaciones del año\n",
    "bike_season_casual <- tripdata_clean %>%\n",
    "  filter(member_casual == \"casual\") %>% \n",
    "  group_by(season, rideable_type) %>%\n",
    "  summarize(count = n(), .groups = \"drop\") %>%\n",
    "  group_by(season) %>%\n",
    "  mutate(percent = (count / sum(count)) * 100) %>% \n",
    "  mutate(percent = sprintf(\"%.2f%%\", percent)) %>%\n",
    "  select(rideable_type, season, percent) %>%\n",
    "  pivot_wider(names_from = season, values_from = percent) \n",
    "\n",
    "bike_season_casual"
   ]
  },
  {
   "cell_type": "code",
   "execution_count": 27,
   "id": "5256c592",
   "metadata": {
    "execution": {
     "iopub.execute_input": "2025-02-19T11:12:57.544870Z",
     "iopub.status.busy": "2025-02-19T11:12:57.543272Z",
     "iopub.status.idle": "2025-02-19T11:12:58.099078Z",
     "shell.execute_reply": "2025-02-19T11:12:58.097251Z"
    },
    "papermill": {
     "duration": 0.574125,
     "end_time": "2025-02-19T11:12:58.101549",
     "exception": false,
     "start_time": "2025-02-19T11:12:57.527424",
     "status": "completed"
    },
    "tags": []
   },
   "outputs": [
    {
     "data": {
      "text/html": [
       "<table class=\"dataframe\">\n",
       "<caption>A tibble: 3 × 5</caption>\n",
       "<thead>\n",
       "\t<tr><th scope=col>rideable_type</th><th scope=col>Spring</th><th scope=col>Summer</th><th scope=col>Autumn</th><th scope=col>Winter</th></tr>\n",
       "\t<tr><th scope=col>&lt;chr&gt;</th><th scope=col>&lt;chr&gt;</th><th scope=col>&lt;chr&gt;</th><th scope=col>&lt;chr&gt;</th><th scope=col>&lt;chr&gt;</th></tr>\n",
       "</thead>\n",
       "<tbody>\n",
       "\t<tr><td>classic_bike    </td><td>66.96%</td><td>65.37%</td><td>62.25%</td><td>70.61%</td></tr>\n",
       "\t<tr><td>electric_bike   </td><td>33.04%</td><td>32.91%</td><td>36.88%</td><td>29.39%</td></tr>\n",
       "\t<tr><td>electric_scooter</td><td>NA    </td><td>1.72% </td><td>0.87% </td><td>NA    </td></tr>\n",
       "</tbody>\n",
       "</table>\n"
      ],
      "text/latex": [
       "A tibble: 3 × 5\n",
       "\\begin{tabular}{lllll}\n",
       " rideable\\_type & Spring & Summer & Autumn & Winter\\\\\n",
       " <chr> & <chr> & <chr> & <chr> & <chr>\\\\\n",
       "\\hline\n",
       "\t classic\\_bike     & 66.96\\% & 65.37\\% & 62.25\\% & 70.61\\%\\\\\n",
       "\t electric\\_bike    & 33.04\\% & 32.91\\% & 36.88\\% & 29.39\\%\\\\\n",
       "\t electric\\_scooter & NA     & 1.72\\%  & 0.87\\%  & NA    \\\\\n",
       "\\end{tabular}\n"
      ],
      "text/markdown": [
       "\n",
       "A tibble: 3 × 5\n",
       "\n",
       "| rideable_type &lt;chr&gt; | Spring &lt;chr&gt; | Summer &lt;chr&gt; | Autumn &lt;chr&gt; | Winter &lt;chr&gt; |\n",
       "|---|---|---|---|---|\n",
       "| classic_bike     | 66.96% | 65.37% | 62.25% | 70.61% |\n",
       "| electric_bike    | 33.04% | 32.91% | 36.88% | 29.39% |\n",
       "| electric_scooter | NA     | 1.72%  | 0.87%  | NA     |\n",
       "\n"
      ],
      "text/plain": [
       "  rideable_type    Spring Summer Autumn Winter\n",
       "1 classic_bike     66.96% 65.37% 62.25% 70.61%\n",
       "2 electric_bike    33.04% 32.91% 36.88% 29.39%\n",
       "3 electric_scooter NA     1.72%  0.87%  NA    "
      ]
     },
     "metadata": {},
     "output_type": "display_data"
    }
   ],
   "source": [
    "# Tipo de bicicleta que usan los clientes ocasionales en las estaciones del año\n",
    "bike_season_member <- tripdata_clean %>%\n",
    "  filter(member_casual == \"member\") %>% \n",
    "  group_by(season, rideable_type) %>%\n",
    "  summarize(count = n(), .groups = \"drop\") %>%\n",
    "  group_by(season) %>%\n",
    "  mutate(percent = (count / sum(count)) * 100) %>%\n",
    "  mutate(percent = sprintf(\"%.2f%%\", percent)) %>%\n",
    "  select(rideable_type, season, percent) %>%\n",
    "  pivot_wider(names_from = season, values_from = percent) \n",
    "\n",
    "bike_season_member"
   ]
  },
  {
   "cell_type": "markdown",
   "id": "328fd4d0",
   "metadata": {
    "papermill": {
     "duration": 0.01402,
     "end_time": "2025-02-19T11:12:58.130146",
     "exception": false,
     "start_time": "2025-02-19T11:12:58.116126",
     "status": "completed"
    },
    "tags": []
   },
   "source": [
    "**Conclusiones del análisis** \n",
    "\n",
    "Luego de realizar distintos cálculos y resumenes comparando datos de los clientes ocasionales y miembros, podemos sacar las siguientes conclusiones:\n",
    "\n",
    "+ Como primer punto se observa una tendencia más estable en la cantidad de viajes que realizan los miembros durante los meses del año, que la de viajes de los clientes casuales. Por ejemplo , un 46.16% de los viajes realizados por los clientes ocasionales son hechos en los meses de verano, mientras que solo el 7.18% son efectuados en invierno, y aunque los miembros igual presentan en el verano la mayor cantidad de viajes, y en el invierno la menor, esta diferencia no es tan acentuada, ya que el verano representa solo un 35.2% de los viajes, mientras que en el invierno se realizan un 14.18% de estos.\n",
    "     \n",
    "+ Respecto a la cantidad de viajes dentro de los días de la semana, notamos una diferencia clara en su distribución, ya que para los clientes ocasionales los fines de semana son los días con más porcentaje de viajes, representando el sabado un 20.92% y el domingo un 17.44% de los viajes totales de este grupo, mientras que para los miembros estos días representan los de menos porcentaje de viajes, con un 12.49% para el sabado y un 10.95% para el domingo.\n",
    "\n",
    "+ El hecho de que los miembros tengan un uso de las bicicletas más estable durante los meses del año, y que las utilicen más los días laborales que los fines de semana, lleva a concluir de que estos las usan mayormente como medio de transporte, mientras que los clientes ocasionales las estarían utilizando mayormente de forma recreacional o deportiva, ya que se destaca que estos las utilizan significativamente más en meses de verano y los fines de semana. Esta conclusión se reafirma también al observar los rangos horarios en que se realizan los viajes, ya que mientras la tendencia para los clientes ocasionales es que la cantidad de viajes vaya aumentando gradualmente a medida que avanzan las horas del día, para ir declinando pasadas las 19 horas. En el grupo de los miembros existe dos rangos horarios con un aumento significativo en la cantidad de viajes, que serían entre las 7 y 9 horas de la mañana, y luego entre las 16 y 19 horas de la tarde, lo que nos vuelve a llevar al punto de que estos últimos las estarían utilizando mayoritariamente como un medio de transporte para ir al trabajo, ya que coinciden con los horarios tradicionales de entrada y salida del trabajo.\n",
    "\n",
    "+ Otro punto del análisis donde existe una clara diferencia entre los clientes ocasionales y los miembros, es en los tiempos promedio de viaje, ya que mientras los primeros tienen un tiempo promedio de 1442 segundos, los miembros tiene un promedio en sus viajes de 747 segundos, practicamente la mitad que la de los clientes ocasionales. Lo que vuelve a apuntar a que los clientes ocasionales ocuparian las bicicletas con fines más recreativos o de ocio, a diferencia de los miembros que las ocuparían para viajes más especificos, lo que coincidiria con la conclusión de que estos le dan un uso como medio de transporte.\n",
    "\n",
    "+ También respecto a los tiempos promedio de viaje, se observa que al igual que con la cantidad de viajes, los miembros presentan tiempos de viaje más estable tanto dentro de los meses del año, como dentro de los días de la semana, mientras que para los clientes ocasionales, se notan diferencias más marcadas en sus tiempos de viaje. Por ejemplo, para los clientes ocasionales, el tiempos promedio de viaje en los fines de semana es de más de 300 segundos que en los días laborales, mientras que para los miembros la diferencia no supera los 120 segundos. Lo que índica que no solo los clientes ocasionales usan más las bicicletas en fines de semana o meses de verano, sino que sus tiempos de uso también son más largos, comparado con los miembros que presentan una tendencia más estable.\n",
    "\n",
    "+ Finalmente respecto al tipo de bicicleta utilizada en los viajes, no se observan grandes diferencias entre clientes ocasionales y miembros, ambos grupos utilizan mayormente las bicicletas clasicas en sus viajes, con un 63.79% para los clientes ocasionales y un 65.79% para los miembros, mientras que los scooter representan un porcentaje marginal en las preferencias de ambos grupos, siendo las bicicletas electricas las que ocupan el porcentaje restante en las preferencias. Estos porcentajes de entre un 60 y 70 porciento de las preferencias de las bicicletas clasicas, se mantienen tambíen al analizar por estaciones del año y días de la semana. Ahora, es necesario aclarar también, que debido a que no se conoce el dato del porcentaje que representa cada tipo de bicicleta dentro del stock disponible, no es posible concluir que los porcentajes antes indicados, se deban a una preferencia de los clientes, o puedan estar influenciados simplemente por el stock disponible de cada tipo de bicicleta.  "
   ]
  },
  {
   "cell_type": "markdown",
   "id": "9300c6ef",
   "metadata": {
    "papermill": {
     "duration": 0.013972,
     "end_time": "2025-02-19T11:12:58.158103",
     "exception": false,
     "start_time": "2025-02-19T11:12:58.144131",
     "status": "completed"
    },
    "tags": []
   },
   "source": [
    "### **5. Compartir**\n",
    "\n",
    "Luego de realizado el análisis pasaremos a graficar los resultados obtenidos con el fin de visualizar mejor las tendencias y diferencias encontradas, entre los clientes ocasionales y los miembros.\n",
    "\n",
    "Partiremos por graficar la frecuencia en la cantidad de viajes realizados por clientes ocasionales y miembros, tanto dentro de las estaciones del año, como los días de la semana, y las horas del día. \n",
    "\n",
    "Se aprecia que los miembros presentan una menor variación en la cantidad de viajes dentro de los meses del año, a diferencia de los clientes ocasionales, que presenta una baja más acentuada en el uso de bicicletas en los meses de otoño e invierno. "
   ]
  },
  {
   "cell_type": "code",
   "execution_count": 28,
   "id": "64216f34",
   "metadata": {
    "execution": {
     "iopub.execute_input": "2025-02-19T11:12:58.192184Z",
     "iopub.status.busy": "2025-02-19T11:12:58.190492Z",
     "iopub.status.idle": "2025-02-19T11:12:58.914138Z",
     "shell.execute_reply": "2025-02-19T11:12:58.912171Z"
    },
    "papermill": {
     "duration": 0.743478,
     "end_time": "2025-02-19T11:12:58.916826",
     "exception": false,
     "start_time": "2025-02-19T11:12:58.173348",
     "status": "completed"
    },
    "tags": []
   },
   "outputs": [
    {
     "data": {
      "image/png": "[encoded data removed]"
     },
     "metadata": {
      "image/png": {
       "height": 420,
       "width": 420
      }
     },
     "output_type": "display_data"
    }
   ],
   "source": [
    "#  Grafico de frecuencia de viajes en el año, por tipo de usuario\n",
    "ggplot(season_distribution, aes(x = season, y = count, fill = member_casual)) +\n",
    "  geom_bar(stat = \"identity\", position = \"dodge\") +\n",
    "  scale_y_continuous(labels = scales::label_comma()) +\n",
    "  labs(\n",
    "    title = \"Cantidad de viajes por estación\",\n",
    "    x = \"Estación\",\n",
    "    y = \"Cantidad de viajes\",\n",
    "    fill = \"Tipo de usuario\"\n",
    "  ) +\n",
    "  theme_minimal()"
   ]
  },
  {
   "cell_type": "markdown",
   "id": "07f52bd6",
   "metadata": {
    "papermill": {
     "duration": 0.014909,
     "end_time": "2025-02-19T11:12:58.946837",
     "exception": false,
     "start_time": "2025-02-19T11:12:58.931928",
     "status": "completed"
    },
    "tags": []
   },
   "source": [
    "Respecto al uso de las bicicletas durante los días de la semana notamos como existe una clara diferencia entre los clientes ocasionales y los miembros, ya que mientras los primeros aumentan la cantidad de viajes dentro del fin de semana, para los miembros esta tendencia es al revés, siendo los días laborales donde más viajes se realizan, y declinan en cantidad hacía el fin de semana."
   ]
  },
  {
   "cell_type": "code",
   "execution_count": 29,
   "id": "a221a421",
   "metadata": {
    "execution": {
     "iopub.execute_input": "2025-02-19T11:12:58.980924Z",
     "iopub.status.busy": "2025-02-19T11:12:58.979293Z",
     "iopub.status.idle": "2025-02-19T11:12:59.887941Z",
     "shell.execute_reply": "2025-02-19T11:12:59.885958Z"
    },
    "papermill": {
     "duration": 0.928765,
     "end_time": "2025-02-19T11:12:59.890488",
     "exception": false,
     "start_time": "2025-02-19T11:12:58.961723",
     "status": "completed"
    },
    "tags": []
   },
   "outputs": [
    {
     "data": {
      "image/png": "[encoded data removed]"
     },
     "metadata": {
      "image/png": {
       "height": 420,
       "width": 420
      }
     },
     "output_type": "display_data"
    }
   ],
   "source": [
    "# Grafico de frecuencia de viajes realizados en la semana, por tipo de usuario\n",
    "ggplot(weekly_distribution, aes(x = day_of_week, y = count, fill = member_casual)) +\n",
    "  geom_bar(stat = \"identity\", position = \"dodge\") +\n",
    "  scale_y_continuous(labels = scales::label_comma()) +\n",
    "  labs(\n",
    "    title = \"Cantidad de viajes por día de la semana\",\n",
    "    x = \"Día de la semana\",\n",
    "    y = \"Cantidad de viajes\",\n",
    "    fill = \"Tipo de usuario\"\n",
    "  ) +\n",
    "  theme_minimal()"
   ]
  },
  {
   "cell_type": "markdown",
   "id": "4f25d029",
   "metadata": {
    "papermill": {
     "duration": 0.016905,
     "end_time": "2025-02-19T11:12:59.923431",
     "exception": false,
     "start_time": "2025-02-19T11:12:59.906526",
     "status": "completed"
    },
    "tags": []
   },
   "source": [
    "Existe un comportamiento distinto tambíen en cómo se distribuyen los viajes dentro de las horas del día, ya que los miembros presentan picos de viajes en el horario de las 7 a 9 horas, para luego bajar en cantidad y volver a tener un nuevo peak entre las 16 y 19 horas. Mientras que la tendencia para los clientes ocasionales es ir aumentando gradualmente en la cantidad de viajes durante las horas días, teniendo su peak de viajes entre las 17 y 18 horas, para luego ir bajando nuevamente. "
   ]
  },
  {
   "cell_type": "code",
   "execution_count": 30,
   "id": "84c01d12",
   "metadata": {
    "execution": {
     "iopub.execute_input": "2025-02-19T11:12:59.958904Z",
     "iopub.status.busy": "2025-02-19T11:12:59.957195Z",
     "iopub.status.idle": "2025-02-19T11:13:00.281424Z",
     "shell.execute_reply": "2025-02-19T11:13:00.279579Z"
    },
    "papermill": {
     "duration": 0.344752,
     "end_time": "2025-02-19T11:13:00.283741",
     "exception": false,
     "start_time": "2025-02-19T11:12:59.938989",
     "status": "completed"
    },
    "tags": []
   },
   "outputs": [
    {
     "data": {
      "image/png": "[encoded data removed]"
     },
     "metadata": {
      "image/png": {
       "height": 420,
       "width": 420
      }
     },
     "output_type": "display_data"
    }
   ],
   "source": [
    "# Grafico de frecuencia de viajes en el día, por tipo de usuario\n",
    "ggplot(hourly_distribution, aes(x = start_hour, y = count, fill = member_casual)) +\n",
    "  geom_bar(stat = \"identity\", position = \"dodge\") +\n",
    "  scale_x_discrete(labels = c(sprintf(\"%02d\", 0:23))) +\n",
    "  scale_y_continuous(labels = scales::label_comma()) +\n",
    "  labs(\n",
    "    title = \"Distribución de viajes por hora de inicio\",\n",
    "    x = \"Hora del día\",\n",
    "    y = \"Cantidad de viajes\",\n",
    "    fill = \"Tipo de usuario\"\n",
    "  ) "
   ]
  },
  {
   "cell_type": "markdown",
   "id": "fc3793ce",
   "metadata": {
    "papermill": {
     "duration": 0.01645,
     "end_time": "2025-02-19T11:13:00.317051",
     "exception": false,
     "start_time": "2025-02-19T11:13:00.300601",
     "status": "completed"
    },
    "tags": []
   },
   "source": [
    "Ahora, en cuanto a los tiempos promedios de viaje, se nota una clara diferencia entre los clientes ocasionales y los miembros, ya que los primeros practicamente doblan en tiempo a los miembros. "
   ]
  },
  {
   "cell_type": "code",
   "execution_count": 31,
   "id": "ed51e378",
   "metadata": {
    "execution": {
     "iopub.execute_input": "2025-02-19T11:13:00.354806Z",
     "iopub.status.busy": "2025-02-19T11:13:00.353094Z",
     "iopub.status.idle": "2025-02-19T11:13:00.663604Z",
     "shell.execute_reply": "2025-02-19T11:13:00.660715Z"
    },
    "papermill": {
     "duration": 0.331712,
     "end_time": "2025-02-19T11:13:00.666437",
     "exception": false,
     "start_time": "2025-02-19T11:13:00.334725",
     "status": "completed"
    },
    "tags": []
   },
   "outputs": [
    {
     "data": {
      "image/png": "[encoded data removed]"
     },
     "metadata": {
      "image/png": {
       "height": 420,
       "width": 420
      }
     },
     "output_type": "display_data"
    }
   ],
   "source": [
    "# Gráfico con los tiempos promedio de viaje para clientes ocasionales y miembros\n",
    "ggplot(average_ride_length, aes(x = member_casual, y = avg_ride_length, fill = member_casual)) +\n",
    "  geom_col() +  \n",
    "  labs(\n",
    "    title = \"Tiempo promedio de viaje por tipo de usuario\",\n",
    "    x = \"Tipo de usuario\",\n",
    "    y = \"Tiempo promedio de viaje (segundos)\"\n",
    "  ) +\n",
    "  geom_text(aes(label = round(avg_ride_length, 1)), vjust = -0.5) "
   ]
  },
  {
   "cell_type": "markdown",
   "id": "9e2f894a",
   "metadata": {
    "papermill": {
     "duration": 0.017365,
     "end_time": "2025-02-19T11:13:00.700995",
     "exception": false,
     "start_time": "2025-02-19T11:13:00.683630",
     "status": "completed"
    },
    "tags": []
   },
   "source": [
    "Respecto a los tiempos de viaje promedio dentro de la semana podemos apreciar, que aunque en ambos grupos los tiempos de viaje aumenta en los fines de semana, este aumento es más pronunciado para los clientes ocasionales, que para los miembros."
   ]
  },
  {
   "cell_type": "code",
   "execution_count": 32,
   "id": "7f6d642e",
   "metadata": {
    "execution": {
     "iopub.execute_input": "2025-02-19T11:13:00.740335Z",
     "iopub.status.busy": "2025-02-19T11:13:00.738671Z",
     "iopub.status.idle": "2025-02-19T11:13:01.474956Z",
     "shell.execute_reply": "2025-02-19T11:13:01.473051Z"
    },
    "papermill": {
     "duration": 0.759093,
     "end_time": "2025-02-19T11:13:01.477334",
     "exception": false,
     "start_time": "2025-02-19T11:13:00.718241",
     "status": "completed"
    },
    "tags": []
   },
   "outputs": [
    {
     "data": {
      "image/png": "[encoded data removed]"
     },
     "metadata": {
      "image/png": {
       "height": 420,
       "width": 420
      }
     },
     "output_type": "display_data"
    }
   ],
   "source": [
    "# Gráfico con tiempos promedio de viaje dentro de la semana\n",
    "ggplot(average_times_week, aes(x = day_of_week)) +\n",
    "  geom_line(aes(y = casual, group = 1, color = \"Casual\"), linewidth = 1) +\n",
    "  geom_line(aes(y = member, group = 1, color = \"Member\"), linewidth = 1) +\n",
    "  labs(\n",
    "    title = \"Tiempo promedio de viaje por día de la semana\",\n",
    "    x = \"Día de la semana\",\n",
    "    y = \"Tiempo promedio de viaje (segundos)\",\n",
    "    color = \"Tipo de usuario\"\n",
    "  ) +\n",
    "  scale_color_manual(values = c(\"Casual\" = \"steelblue\", \"Member\" = \"darkorange\")) +\n",
    "  theme_minimal()"
   ]
  },
  {
   "cell_type": "markdown",
   "id": "7395f1c8",
   "metadata": {
    "papermill": {
     "duration": 0.018828,
     "end_time": "2025-02-19T11:13:01.514568",
     "exception": false,
     "start_time": "2025-02-19T11:13:01.495740",
     "status": "completed"
    },
    "tags": []
   },
   "source": [
    "En cuanto a los tiempos promedio de viaje dentro de los meses del año, la tendencia para ambos grupos es que aumenten los tiempos en los meses de primavera y verano, para luego bajar en otoño e invierno. Pero que al igual que en los días de la semana, esta tendencia es más acentuada para los clientes ocasionales que para los miembros, donde se nota una mayor estabilidad en los tiempos de viaje durante todo el año."
   ]
  },
  {
   "cell_type": "code",
   "execution_count": 33,
   "id": "0c8f7d1f",
   "metadata": {
    "execution": {
     "iopub.execute_input": "2025-02-19T11:13:01.555824Z",
     "iopub.status.busy": "2025-02-19T11:13:01.554202Z",
     "iopub.status.idle": "2025-02-19T11:13:01.848837Z",
     "shell.execute_reply": "2025-02-19T11:13:01.846867Z"
    },
    "papermill": {
     "duration": 0.318632,
     "end_time": "2025-02-19T11:13:01.851669",
     "exception": false,
     "start_time": "2025-02-19T11:13:01.533037",
     "status": "completed"
    },
    "tags": []
   },
   "outputs": [
    {
     "data": {
      "image/png": "[encoded data removed]"
     },
     "metadata": {
      "image/png": {
       "height": 420,
       "width": 420
      }
     },
     "output_type": "display_data"
    }
   ],
   "source": [
    "# Gráfico con tiempos promedio de viaje dentro del año\n",
    "ggplot(average_times_month, aes(x = month)) +\n",
    "  geom_line(aes(y = casual, group = 1, color = \"Casual\"), linewidth = 1) +\n",
    "  geom_line(aes(y = member, group = 1, color = \"Member\"), linewidth = 1) +\n",
    "  labs(\n",
    "    title = \"Tiempo promedio de viaje por mes\",\n",
    "    x = \"Mes\",\n",
    "    y = \"Tiempo promedio de viaje (segundos)\",\n",
    "    color = \"Tipo de usuario\"\n",
    "  ) +\n",
    "  scale_color_manual(values = c(\"Casual\" = \"steelblue\", \"Member\" = \"darkorange\")) +\n",
    "  theme_minimal() +\n",
    "  theme(axis.text.x = element_text(angle = 45, hjust = 1))"
   ]
  },
  {
   "cell_type": "markdown",
   "id": "447ec051",
   "metadata": {
    "papermill": {
     "duration": 0.02098,
     "end_time": "2025-02-19T11:13:01.893973",
     "exception": false,
     "start_time": "2025-02-19T11:13:01.872993",
     "status": "completed"
    },
    "tags": []
   },
   "source": [
    "Finalmente en cuanto al tipo de bicicleta que utilizan miembros y clientes ocasionales, vemos que las preferencias son practicamente las mismas para ambos grupos, siendo las bicicletas clasicas las más solicitadas, luego las bicicletas electricas, y teniendo los scooter una demanda marginal. "
   ]
  },
  {
   "cell_type": "code",
   "execution_count": 34,
   "id": "966ff788",
   "metadata": {
    "execution": {
     "iopub.execute_input": "2025-02-19T11:13:01.938115Z",
     "iopub.status.busy": "2025-02-19T11:13:01.936447Z",
     "iopub.status.idle": "2025-02-19T11:13:02.241258Z",
     "shell.execute_reply": "2025-02-19T11:13:02.239346Z"
    },
    "papermill": {
     "duration": 0.32964,
     "end_time": "2025-02-19T11:13:02.243692",
     "exception": false,
     "start_time": "2025-02-19T11:13:01.914052",
     "status": "completed"
    },
    "tags": []
   },
   "outputs": [
    {
     "data": {
      "image/png": "[encoded data removed]"
     },
     "metadata": {
      "image/png": {
       "height": 420,
       "width": 420
      }
     },
     "output_type": "display_data"
    }
   ],
   "source": [
    "# Gráfico con las preferencias en el tipo de bicicleta para clientes ocasionales y  miembros\n",
    "ggplot(type_bike_usage, aes(x = member_casual, y = count, fill = rideable_type)) +\n",
    "  geom_bar(stat = \"identity\", position = \"fill\") +\n",
    "  scale_y_continuous(labels = scales::percent_format()) +\n",
    "  labs(\n",
    "    title = \"Preferencia en el tipo de bicicleta por tipo de usuario\",\n",
    "    x = \"Tipo de usuario\",\n",
    "    y = \"Porcentaje de viajes\",\n",
    "    fill = \"Tipo de bicicleta\"\n",
    "  ) +\n",
    "  theme_minimal()"
   ]
  },
  {
   "cell_type": "markdown",
   "id": "d050b27f",
   "metadata": {
    "papermill": {
     "duration": 0.021475,
     "end_time": "2025-02-19T11:13:02.285574",
     "exception": false,
     "start_time": "2025-02-19T11:13:02.264099",
     "status": "completed"
    },
    "tags": []
   },
   "source": [
    "Podemos ver también que esta tendencia de los clientes ocasionales y los miembros a preferir las bicicletas clasicas no varía según si es día laboral o fin de semana. "
   ]
  },
  {
   "cell_type": "code",
   "execution_count": 35,
   "id": "ba175d7a",
   "metadata": {
    "execution": {
     "iopub.execute_input": "2025-02-19T11:13:02.331131Z",
     "iopub.status.busy": "2025-02-19T11:13:02.329473Z",
     "iopub.status.idle": "2025-02-19T11:13:03.346423Z",
     "shell.execute_reply": "2025-02-19T11:13:03.344511Z"
    },
    "papermill": {
     "duration": 1.042328,
     "end_time": "2025-02-19T11:13:03.348746",
     "exception": false,
     "start_time": "2025-02-19T11:13:02.306418",
     "status": "completed"
    },
    "tags": []
   },
   "outputs": [
    {
     "data": {
      "image/png": "[encoded data removed]"
     },
     "metadata": {
      "image/png": {
       "height": 420,
       "width": 420
      }
     },
     "output_type": "display_data"
    }
   ],
   "source": [
    "# Tabla con preferencias del tipo de bicicleta según tipo de usuario y tipo de día\n",
    "bike_type_day_type <- tripdata_clean %>%\n",
    "  group_by(member_casual, day_type, rideable_type) %>%\n",
    "  summarize(count = n(), .groups = \"drop\") %>%\n",
    "  group_by(member_casual, day_type) %>%\n",
    "  mutate(percent = (count / sum(count)) * 100) \n",
    "\n",
    "# Gráfico con preferencias del tipo de bicicleta según tipo de usuario y tipo de día\n",
    "ggplot(bike_type_day_type, aes(x = day_type, y = percent, fill = rideable_type)) +\n",
    "  geom_bar(stat = \"identity\", position = \"dodge\") +\n",
    "  facet_wrap(~ member_casual) +  \n",
    "  labs(\n",
    "    title = \"Tipo de bicicleta utilizada según el tipo de usuario y día\",\n",
    "    x = \"Tipo de día\",\n",
    "    y = \"Porcentaje de viajes\",\n",
    "    fill = \"Tipo de bicicleta\"\n",
    "  ) +\n",
    "  scale_y_continuous(labels = scales::label_percent(scale = 1)) +  \n",
    "  theme_minimal()"
   ]
  },
  {
   "cell_type": "markdown",
   "id": "dfd01e30",
   "metadata": {
    "papermill": {
     "duration": 0.021459,
     "end_time": "2025-02-19T11:13:03.392184",
     "exception": false,
     "start_time": "2025-02-19T11:13:03.370725",
     "status": "completed"
    },
    "tags": []
   },
   "source": [
    "Esta misma tonica a preferir las bicicletas clasicas se repite también cuando se analiza por estación del año. "
   ]
  },
  {
   "cell_type": "code",
   "execution_count": 36,
   "id": "32914be2",
   "metadata": {
    "execution": {
     "iopub.execute_input": "2025-02-19T11:13:03.439092Z",
     "iopub.status.busy": "2025-02-19T11:13:03.437236Z",
     "iopub.status.idle": "2025-02-19T11:13:04.015857Z",
     "shell.execute_reply": "2025-02-19T11:13:04.013841Z"
    },
    "papermill": {
     "duration": 0.604634,
     "end_time": "2025-02-19T11:13:04.018273",
     "exception": false,
     "start_time": "2025-02-19T11:13:03.413639",
     "status": "completed"
    },
    "tags": []
   },
   "outputs": [
    {
     "data": {
      "image/png": "[encoded data removed]"
     },
     "metadata": {
      "image/png": {
       "height": 420,
       "width": 420
      }
     },
     "output_type": "display_data"
    }
   ],
   "source": [
    "# Tabla con preferencias del tipo de bicicleta según tipo de usuario y estación del  año\n",
    "bike_type_season <- tripdata_clean %>%\n",
    "  group_by(member_casual, season, rideable_type) %>%\n",
    "  summarize(count = n(), .groups = \"drop\") %>%\n",
    "  group_by(member_casual, season) %>%\n",
    "  mutate(percent = (count / sum(count)) * 100)\n",
    "\n",
    "# Gráfico con preferencias del tipo de bicicleta según tipo de usuario y estación del año\n",
    "ggplot(bike_type_season, aes(x = season, y = percent, fill = rideable_type)) +\n",
    "  geom_bar(stat = \"identity\", position = \"dodge\") +\n",
    "  facet_wrap(~ member_casual) +  \n",
    "  labs(\n",
    "    title = \"Tipo de bicicleta utilizada, según usuario y estación de año\",\n",
    "    x = \"Tipo de bicicleta\",\n",
    "    y = \"Porcentaje de viajes\",\n",
    "    fill = \"Estación\"\n",
    "  ) +\n",
    "  scale_y_continuous(labels = scales::label_percent(scale = 1)) +  \n",
    "  theme_minimal()"
   ]
  },
  {
   "cell_type": "markdown",
   "id": "0b332f6d",
   "metadata": {
    "papermill": {
     "duration": 0.023479,
     "end_time": "2025-02-19T11:13:04.065508",
     "exception": false,
     "start_time": "2025-02-19T11:13:04.042029",
     "status": "completed"
    },
    "tags": []
   },
   "source": [
    "**Límitaciones del análisis** \n",
    "\n",
    "Finalmente, y antes de pasar a las recomendaciones y conclusiones finales, es necesario indicar ciertas límitaciones del análisis, que están relacionadas con la falta de datos:\n",
    "\n",
    "+ Como se mencionó anteriormente, no se dispone de información sobre el stock de cada tipo de bicicleta que posee Cyclistic. Esto podría influir en el resultado que indica que tanto los clientes ocasionales como los miembros prefieren las bicicletas clásicas. La tendencia observada en ambos grupos podría estar sesgada si el número de bicicletas clásicas disponibles es significativamente mayor en comparación con los otros tipos.\n",
    "  \n",
    "+ Otra limitación está relacionada con la falta de referencias individuales de los usuarios debido a restricciones de privacidad. Esto impide realizar análisis segmentados por edad o sexo, así como identificar si un mismo usuario ha realizado múltiples viajes. Contar con esta información habría permitido detectar patrones de uso más personalizados y detallados."
   ]
  },
  {
   "cell_type": "markdown",
   "id": "aff3f6d4",
   "metadata": {
    "papermill": {
     "duration": 0.022562,
     "end_time": "2025-02-19T11:13:04.111670",
     "exception": false,
     "start_time": "2025-02-19T11:13:04.089108",
     "status": "completed"
    },
    "tags": []
   },
   "source": [
    "### **6. Actuar**\n",
    "\n",
    "Para finalizar el informe y con el objetivo de contribuir al desarrollo de estrategias de marketing que permitan convertir a los ciclistas ocasionales en miembros anuales, se presentan tres recomendaciones basadas en las diferencias y tendencias observadas en el uso de bicicletas tanto en los ciclistas ocasionales como en los miembros anuales. \n",
    "\n",
    "+ El análisis mostró que los ciclistas ocasionales utilizan las bicicletas con mayor frecuencia durante la primavera y el verano. Por ello, las campañas de publicidad y marketing deberían concentrarse principalmente en estos meses del año, aprovechando el aumento en la demanda.\n",
    "\n",
    "+ Además de su mayor uso en primavera y verano, los ciclistas ocasionales tienden a utilizar las bicicletas principalmente los fines de semana, tanto en cantidad de viajes como en tiempo de uso, lo que sugiere que las ocupan principalmente con fines recreativos o de ocio. En función de este comportamiento, podría ser beneficioso ofrecer nuevas opciones de suscripción, como una membresía trimestral o una anual exclusiva para fines de semana. Brindar alternativas más flexibles podría incentivar a los clientes ocasionales que no utilizan la bicicleta como medio de transporte a convertirse en miembros de la empresa.\n",
    "\n",
    "+ En línea con la tendencia de que los ciclistas ocasionales utilizan las bicicletas principalmente con fines recreativos, se recomienda que las estrategias de marketing para convertirlos en miembros destaquen la bicicleta como un medio para el ocio, la recreación y el ejercicio. En este sentido, se sugiere resaltar los beneficios del ciclismo tanto para la salud física como mental, alineando la comunicación de las estrategías de marketing con estas motivaciones."
   ]
  }
 ],
 "metadata": {
  "kaggle": {
   "accelerator": "none",
   "dataSources": [
    {
     "datasetId": 6434158,
     "sourceId": 10386026,
     "sourceType": "datasetVersion"
    }
   ],
   "dockerImageVersionId": 30822,
   "isGpuEnabled": false,
   "isInternetEnabled": false,
   "language": "r",
   "sourceType": "notebook"
  },
  "kernelspec": {
   "display_name": "R",
   "language": "R",
   "name": "ir"
  },
  "language_info": {
   "codemirror_mode": "r",
   "file_extension": ".r",
   "mimetype": "text/x-r-source",
   "name": "R",
   "pygments_lexer": "r",
   "version": "4.4.0"
  },
  "papermill": {
   "default_parameters": {},
   "duration": 110.282823,
   "end_time": "2025-02-19T11:13:04.659460",
   "environment_variables": {},
   "exception": null,
   "input_path": "__notebook__.ipynb",
   "output_path": "__notebook__.ipynb",
   "parameters": {},
   "start_time": "2025-02-19T11:11:14.376637",
   "version": "2.6.0"
  }
 },
 "nbformat": 4,
 "nbformat_minor": 5
}
